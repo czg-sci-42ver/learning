{
 "cells": [
  {
   "cell_type": "code",
   "execution_count": null,
   "id": "e5aeb200",
   "metadata": {},
   "outputs": [],
   "source": [
    "impo"
   ]
  }
 ],
 "metadata": {
  "kernelspec": {
   "display_name": "vsc",
   "language": "python",
   "name": "vsc"
  }
 },
 "nbformat": 4,
 "nbformat_minor": 5
}
