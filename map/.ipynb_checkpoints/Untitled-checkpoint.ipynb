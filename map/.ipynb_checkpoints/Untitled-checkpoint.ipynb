{
 "cells": [
  {
   "cell_type": "code",
   "execution_count": null,
   "id": "e0a47c3b",
   "metadata": {},
   "outputs": [],
   "source": [
    "import branca\n",
    "import pandas as pd\n",
    "\n",
    "url = (\n",
    "    \"https://raw.githubusercontent.com/python-visualization/folium/master/examples/data\"\n",
    ")\n",
    "county_data = f\"{url}/us_county_data.csv\"\n",
    "county_geo = f\"{url}/us_counties_20m_topo.json\"\n",
    "\n",
    "\n",
    "df = pd.read_csv(county_data, na_values=[\" \"])\n",
    "\n",
    "colorscale = branca.colormap.linear.YlOrRd_09.scale(0, 50e3)\n",
    "employed_series = df.set_index(\"FIPS_Code\")[\"Employed_2011\"]\n",
    "\n",
    "\n",
    "def style_function(feature):\n",
    "    employed = employed_series.get(int(feature[\"id\"][-5:]), None)\n",
    "    return {\n",
    "        \"fillOpacity\": 0.5,\n",
    "        \"weight\": 0,\n",
    "        \"fillColor\": \"#black\" if employed is None else colorscale(employed),\n",
    "    }\n",
    "\n",
    "\n",
    "m = folium.Map(location=[48, -102], tiles=\"cartodbpositron\", zoom_start=3)\n",
    "\n",
    "folium.TopoJson(\n",
    "    json.loads(requests.get(county_geo).text),\n",
    "    \"objects.us_counties_20m\",\n",
    "    style_function=style_function,\n",
    ").add_to(m)\n",
    "\n",
    "\n",
    "m"
   ]
  },
  {
   "cell_type": "code",
   "execution_count": null,
   "id": "121db556",
   "metadata": {},
   "outputs": [],
   "source": []
  }
 ],
 "metadata": {
  "kernelspec": {
   "display_name": "vsc",
   "language": "python",
   "name": "vsc"
  },
  "language_info": {
   "codemirror_mode": {
    "name": "ipython",
    "version": 3
   },
   "file_extension": ".py",
   "mimetype": "text/x-python",
   "name": "python",
   "nbconvert_exporter": "python",
   "pygments_lexer": "ipython3",
   "version": "3.8.10"
  }
 },
 "nbformat": 4,
 "nbformat_minor": 5
}
