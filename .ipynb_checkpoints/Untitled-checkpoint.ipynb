{
 "cells": [
  {
   "cell_type": "code",
   "execution_count": 3,
   "id": "07961cdc",
   "metadata": {},
   "outputs": [],
   "source": [
    "import sympy as sym \n",
    "x ,y ,z= sym.symbols('x y z')"
   ]
  },
  {
   "cell_type": "code",
   "execution_count": 6,
   "id": "03dd9a18",
   "metadata": {},
   "outputs": [],
   "source": [
    "import subprocess\n",
    "import sys\n",
    "\n",
    "def install(package):\n",
    "    subprocess.check_call([sys.executable, \"-m\", \"pip\", \"install\", package])"
   ]
  },
  {
   "cell_type": "code",
   "execution_count": 9,
   "id": "0e812adf",
   "metadata": {},
   "outputs": [
    {
     "name": "stdout",
     "output_type": "stream",
     "text": [
      "Looking in indexes: https://pypi.tuna.tsinghua.edu.cn/simple\n",
      "Requirement already satisfied: numpy in /home/czg/.virtualenvs/vsc/lib/python3.8/site-packages (1.22.2)\n"
     ]
    },
    {
     "name": "stderr",
     "output_type": "stream",
     "text": [
      "WARNING: You are using pip version 21.3.1; however, version 22.0.3 is available.\n",
      "You should consider upgrading via the '/home/czg/.virtualenvs/vsc/bin/python -m pip install --upgrade pip' command.\n"
     ]
    }
   ],
   "source": [
    "install(\"numpy\")"
   ]
  },
  {
   "cell_type": "code",
   "execution_count": 11,
   "id": "f4a756c1",
   "metadata": {},
   "outputs": [],
   "source": [
    "import numpy as np"
   ]
  },
  {
   "cell_type": "code",
   "execution_count": 13,
   "id": "e33c8da5",
   "metadata": {},
   "outputs": [],
   "source": [
    "np.matrix?"
   ]
  },
  {
   "cell_type": "code",
   "execution_count": 20,
   "id": "cf4b2247",
   "metadata": {},
   "outputs": [
    {
     "data": {
      "text/latex": [
       "$\\displaystyle \\left[\\begin{array}{ccc}X_{0, 0} & X_{0, 1} & X_{0, 2}\\\\X_{1, 0} & X_{1, 1} & X_{1, 2}\\\\X_{2, 0} & X_{2, 1} & X_{2, 2}\\end{array}\\right]$"
      ],
      "text/plain": [
       "Matrix([\n",
       "[X[0, 0], X[0, 1], X[0, 2]],\n",
       "[X[1, 0], X[1, 1], X[1, 2]],\n",
       "[X[2, 0], X[2, 1], X[2, 2]]])"
      ]
     },
     "execution_count": 20,
     "metadata": {},
     "output_type": "execute_result"
    }
   ],
   "source": [
    "#a=np.matrix('x 0 0;0 y 0;0 0 z')\n",
    "sym.matrices?\n",
    "X = sym.MatrixSymbol('X', 3, 3)\n",
    "sym.Matrix(X)"
   ]
  },
  {
   "cell_type": "code",
   "execution_count": 29,
   "id": "0fdffc05",
   "metadata": {},
   "outputs": [
    {
     "data": {
      "text/latex": [
       "$\\displaystyle \\left[\\begin{matrix}x_{1} & 1 & 1\\\\1 & x_{2} & 1\\\\1 & 1 & x_{3}\\end{matrix}\\right]$"
      ],
      "text/plain": [
       "Matrix([\n",
       "[x1,  1,  1],\n",
       "[ 1, x2,  1],\n",
       "[ 1,  1, x3]])"
      ]
     },
     "execution_count": 29,
     "metadata": {},
     "output_type": "execute_result"
    }
   ],
   "source": [
    "from sympy import *\n",
    "x1, x2, x3 = symbols('x1 x2 x3')\n",
    "mat = diag(x1,x2,x3)-eye(3)+ones(3)\n",
    "mat"
   ]
  },
  {
   "cell_type": "code",
   "execution_count": 30,
   "id": "33b75391",
   "metadata": {},
   "outputs": [
    {
     "data": {
      "text/latex": [
       "$\\displaystyle \\left[\\begin{matrix}\\frac{1}{x_{1}} & 0 & 0\\\\0 & \\frac{1}{x_{2}} & 0\\\\0 & 0 & \\frac{1}{x_{3}}\\end{matrix}\\right]$"
      ],
      "text/plain": [
       "Matrix([\n",
       "[1/x1,    0,    0],\n",
       "[   0, 1/x2,    0],\n",
       "[   0,    0, 1/x3]])"
      ]
     },
     "execution_count": 30,
     "metadata": {},
     "output_type": "execute_result"
    }
   ],
   "source": [
    "diag(x1,x2,x3).inv()"
   ]
  },
  {
   "cell_type": "code",
   "execution_count": 31,
   "id": "5b6f5646",
   "metadata": {},
   "outputs": [
    {
     "data": {
      "text/latex": [
       "$\\displaystyle \\left[\\begin{matrix}1 & 0 & 0\\\\0 & 1 & 0\\\\0 & 0 & 1\\end{matrix}\\right]$"
      ],
      "text/plain": [
       "Matrix([\n",
       "[1, 0, 0],\n",
       "[0, 1, 0],\n",
       "[0, 0, 1]])"
      ]
     },
     "execution_count": 31,
     "metadata": {},
     "output_type": "execute_result"
    }
   ],
   "source": [
    "diag(x1,x2,x3).inv()@diag(x1,x2,x3)"
   ]
  },
  {
   "cell_type": "code",
   "execution_count": 24,
   "id": "a56404c6",
   "metadata": {},
   "outputs": [
    {
     "data": {
      "text/latex": [
       "$\\displaystyle \\left[\\begin{matrix}1 & 0 & 0\\\\0 & 1 & 0\\\\0 & 0 & 1\\end{matrix}\\right]$"
      ],
      "text/plain": [
       "Matrix([\n",
       "[1, 0, 0],\n",
       "[0, 1, 0],\n",
       "[0, 0, 1]])"
      ]
     },
     "execution_count": 24,
     "metadata": {},
     "output_type": "execute_result"
    }
   ],
   "source": [
    "eye(3)"
   ]
  },
  {
   "cell_type": "code",
   "execution_count": 28,
   "id": "1b1002ef",
   "metadata": {},
   "outputs": [
    {
     "name": "stdout",
     "output_type": "stream",
     "text": [
      "Help on function invert in module sympy.polys.polytools:\n",
      "\n",
      "invert(f, g, *gens, **args)\n",
      "    Invert ``f`` modulo ``g`` when possible.\n",
      "    \n",
      "    Examples\n",
      "    ========\n",
      "    \n",
      "    >>> from sympy import invert, S\n",
      "    >>> from sympy.core.numbers import mod_inverse\n",
      "    >>> from sympy.abc import x\n",
      "    \n",
      "    >>> invert(x**2 - 1, 2*x - 1)\n",
      "    -4/3\n",
      "    \n",
      "    >>> invert(x**2 - 1, x - 1)\n",
      "    Traceback (most recent call last):\n",
      "    ...\n",
      "    NotInvertible: zero divisor\n",
      "    \n",
      "    For more efficient inversion of Rationals,\n",
      "    use the :obj:`~.mod_inverse` function:\n",
      "    \n",
      "    >>> mod_inverse(3, 5)\n",
      "    2\n",
      "    >>> (S(2)/5).invert(S(7)/3)\n",
      "    5/2\n",
      "    \n",
      "    See Also\n",
      "    ========\n",
      "    \n",
      "    sympy.core.numbers.mod_inverse\n",
      "\n"
     ]
    }
   ],
   "source": [
    "??invert\n",
    "help(invert)"
   ]
  }
 ],
 "metadata": {
  "kernelspec": {
   "display_name": "vsc",
   "language": "python",
   "name": "vsc"
  },
  "language_info": {
   "codemirror_mode": {
    "name": "ipython",
    "version": 3
   },
   "file_extension": ".py",
   "mimetype": "text/x-python",
   "name": "python",
   "nbconvert_exporter": "python",
   "pygments_lexer": "ipython3",
   "version": "3.8.10"
  }
 },
 "nbformat": 4,
 "nbformat_minor": 5
}
