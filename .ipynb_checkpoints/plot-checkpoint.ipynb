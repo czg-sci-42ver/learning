{
 "cells": [
  {
   "cell_type": "code",
   "execution_count": 2,
   "metadata": {},
   "outputs": [],
   "source": [
    "import seaborn"
   ]
  },
  {
   "cell_type": "code",
   "execution_count": 8,
   "metadata": {},
   "outputs": [],
   "source": [
    "import matplotlib as mt"
   ]
  },
  {
   "cell_type": "code",
   "execution_count": 7,
   "metadata": {},
   "outputs": [
    {
     "name": "stdout",
     "output_type": "stream",
     "text": [
      "Available matplotlib backends: ['tk', 'gtk', 'gtk3', 'gtk4', 'wx', 'qt4', 'qt5', 'qt6', 'qt', 'osx', 'nbagg', 'notebook', 'agg', 'svg', 'pdf', 'ps', 'inline', 'ipympl', 'widget']\n"
     ]
    }
   ],
   "source": [
    "%matplotlib inline\n",
    "%matplotlib -l"
   ]
  },
  {
   "cell_type": "code",
   "execution_count": 9,
   "metadata": {},
   "outputs": [],
   "source": [
    "mt.pyplot?"
   ]
  },
  {
   "cell_type": "code",
   "execution_count": 23,
   "metadata": {},
   "outputs": [
    {
     "data": {
      "text/plain": [
       "[<matplotlib.lines.Line2D at 0x7f384d621280>]"
      ]
     },
     "execution_count": 23,
     "metadata": {},
     "output_type": "execute_result"
    },
    {
     "data": {
      "image/png": "[encoded data removed]",
      "text/plain": [
       "<Figure size 432x288 with 2 Axes>"
      ]
     },
     "metadata": {
      "needs_background": "light"
     },
     "output_type": "display_data"
    }
   ],
   "source": [
    "import numpy as np\n",
    "import matplotlib.pyplot as plt\n",
    "\n",
    "x = np.arange(0.01, 5, 0.01)\n",
    "y = np.sin(x)\n",
    "fig, ax = plt.subplots(2)\n",
    "ax[0].plot(x, y)\n",
    "\n",
    "z = x**(1/x)\n",
    "# tm = plt.subplots()\n",
    "ax[1].plot(x,z)"
   ]
  },
  {
   "cell_type": "code",
   "execution_count": 17,
   "metadata": {},
   "outputs": [
    {
     "data": {
      "text/plain": [
       "matplotlib.figure.Figure"
      ]
     },
     "execution_count": 17,
     "metadata": {},
     "output_type": "execute_result"
    }
   ],
   "source": [
    "type(fig)"
   ]
  },
  {
   "cell_type": "code",
   "execution_count": 22,
   "metadata": {},
   "outputs": [
    {
     "data": {
      "text/plain": [
       "tuple"
      ]
     },
     "execution_count": 22,
     "metadata": {},
     "output_type": "execute_result"
    }
   ],
   "source": [
    "type(tm)"
   ]
  },
  {
   "cell_type": "code",
   "execution_count": 25,
   "metadata": {},
   "outputs": [
    {
     "data": {
      "text/plain": [
       "array([1.00000000e-200, 1.12589991e-085, 1.72732937e-051, 1.12589991e-035,\n",
       "       9.53674316e-027, 4.32368626e-021, 3.17249226e-017, 1.94368032e-014,\n",
       "       2.40144324e-012, 1.00000000e-010, 1.92924795e-009, 2.12085210e-008,\n",
       "       1.52819802e-007, 7.96002699e-007, 3.21569655e-006, 1.06108431e-005,\n",
       "       2.97323303e-005, 7.28827965e-005, 1.59943399e-004, 3.20000000e-004,\n",
       "       5.92206039e-004, 1.02568070e-003, 1.67843155e-003, 2.61545252e-003,\n",
       "       3.90625000e-003, 5.62208610e-003, 7.83321176e-003, 1.06063120e-002,\n",
       "       1.40023198e-002, 1.80746897e-002, 2.28681625e-002, 2.84180113e-002,\n",
       "       3.47497219e-002, 4.18790494e-002, 4.98123774e-002, 5.85473101e-002,\n",
       "       6.80734298e-002, 7.83731603e-002, 8.94226859e-002, 1.01192885e-001,\n",
       "       1.13650247e-001, 1.26757744e-001, 1.40475653e-001, 1.54762299e-001,\n",
       "       1.69574733e-001, 1.84869323e-001, 2.00602281e-001, 2.16730107e-001,\n",
       "       2.33209964e-001, 2.50000000e-001, 2.67059596e-001, 2.84349575e-001,\n",
       "       3.01832355e-001, 3.19472065e-001, 3.37234628e-001, 3.55087809e-001,\n",
       "       3.73001238e-001, 3.90946411e-001, 4.08896675e-001, 4.26827197e-001,\n",
       "       4.44714917e-001, 4.62538499e-001, 4.80278268e-001, 4.97916146e-001,\n",
       "       5.15435581e-001, 5.32821475e-001, 5.50060112e-001, 5.67139084e-001,\n",
       "       5.84047215e-001, 6.00774493e-001, 6.17311996e-001, 6.33651824e-001,\n",
       "       6.49787034e-001, 6.65711574e-001, 6.81420222e-001, 6.96908529e-001,\n",
       "       7.12172759e-001, 7.27209840e-001, 7.42017315e-001, 7.56593287e-001,\n",
       "       7.70936383e-001, 7.85045705e-001, 7.98920795e-001, 8.12561597e-001,\n",
       "       8.25968418e-001, 8.39141903e-001, 8.52082998e-001, 8.64792924e-001,\n",
       "       8.77273153e-001, 8.89525380e-001, 9.01551501e-001, 9.13353596e-001,\n",
       "       9.24933900e-001, 9.36294797e-001, 9.47438794e-001, 9.58368508e-001,\n",
       "       9.69086654e-001, 9.79596029e-001, 9.89899502e-001, 1.00000000e+000,\n",
       "       1.00990050e+000, 1.01960402e+000, 1.02911362e+000, 1.03843235e+000,\n",
       "       1.04756332e+000, 1.05650962e+000, 1.06527436e+000, 1.07386063e+000,\n",
       "       1.08227154e+000, 1.09051015e+000, 1.09857956e+000, 1.10648279e+000,\n",
       "       1.11422288e+000, 1.12180284e+000, 1.12922564e+000, 1.13649422e+000,\n",
       "       1.14361150e+000, 1.15058036e+000, 1.15740363e+000, 1.16408414e+000,\n",
       "       1.17062464e+000, 1.17702787e+000, 1.18329652e+000, 1.18943323e+000,\n",
       "       1.19544062e+000, 1.20132126e+000, 1.20707766e+000, 1.21271232e+000,\n",
       "       1.21822766e+000, 1.22362610e+000, 1.22890999e+000, 1.23408163e+000,\n",
       "       1.23914330e+000, 1.24409724e+000, 1.24894563e+000, 1.25369061e+000,\n",
       "       1.25833430e+000, 1.26287875e+000, 1.26732600e+000, 1.27167803e+000,\n",
       "       1.27593678e+000, 1.28010417e+000, 1.28418206e+000, 1.28817229e+000,\n",
       "       1.29207665e+000, 1.29589689e+000, 1.29963475e+000, 1.30329191e+000,\n",
       "       1.30687002e+000, 1.31037070e+000, 1.31379553e+000, 1.31714607e+000,\n",
       "       1.32042383e+000, 1.32363030e+000, 1.32676695e+000, 1.32983519e+000,\n",
       "       1.33283641e+000, 1.33577199e+000, 1.33864327e+000, 1.34145154e+000,\n",
       "       1.34419810e+000, 1.34688419e+000, 1.34951105e+000, 1.35207987e+000,\n",
       "       1.35459183e+000, 1.35704808e+000, 1.35944974e+000, 1.36179792e+000,\n",
       "       1.36409370e+000, 1.36633813e+000, 1.36853225e+000, 1.37067706e+000,\n",
       "       1.37277355e+000, 1.37482270e+000, 1.37682545e+000, 1.37878273e+000,\n",
       "       1.38069544e+000, 1.38256448e+000, 1.38439071e+000, 1.38617499e+000,\n",
       "       1.38791814e+000, 1.38962100e+000, 1.39128434e+000, 1.39290895e+000,\n",
       "       1.39449561e+000, 1.39604505e+000, 1.39755801e+000, 1.39903521e+000,\n",
       "       1.40047734e+000, 1.40188511e+000, 1.40325917e+000, 1.40460019e+000,\n",
       "       1.40590882e+000, 1.40718568e+000, 1.40843140e+000, 1.40964658e+000,\n",
       "       1.41083181e+000, 1.41198767e+000, 1.41311474e+000, 1.41421356e+000,\n",
       "       1.41528469e+000, 1.41632866e+000, 1.41734599e+000, 1.41833720e+000,\n",
       "       1.41930278e+000, 1.42024323e+000, 1.42115903e+000, 1.42205065e+000,\n",
       "       1.42291855e+000, 1.42376319e+000, 1.42458500e+000, 1.42538443e+000,\n",
       "       1.42616189e+000, 1.42691781e+000, 1.42765260e+000, 1.42836664e+000,\n",
       "       1.42906035e+000, 1.42973409e+000, 1.43038825e+000, 1.43102319e+000,\n",
       "       1.43163929e+000, 1.43223688e+000, 1.43281633e+000, 1.43337796e+000,\n",
       "       1.43392212e+000, 1.43444913e+000, 1.43495930e+000, 1.43545297e+000,\n",
       "       1.43593043e+000, 1.43639198e+000, 1.43683793e+000, 1.43726856e+000,\n",
       "       1.43768415e+000, 1.43808499e+000, 1.43847135e+000, 1.43884350e+000,\n",
       "       1.43920171e+000, 1.43954622e+000, 1.43987729e+000, 1.44019517e+000,\n",
       "       1.44050011e+000, 1.44079234e+000, 1.44107210e+000, 1.44133961e+000,\n",
       "       1.44159511e+000, 1.44183881e+000, 1.44207093e+000, 1.44229168e+000,\n",
       "       1.44250127e+000, 1.44269991e+000, 1.44288779e+000, 1.44306512e+000,\n",
       "       1.44323208e+000, 1.44338887e+000, 1.44353568e+000, 1.44367267e+000,\n",
       "       1.44380005e+000, 1.44391797e+000, 1.44402662e+000, 1.44412616e+000,\n",
       "       1.44421675e+000, 1.44429857e+000, 1.44437177e+000, 1.44443651e+000,\n",
       "       1.44449294e+000, 1.44454122e+000, 1.44458149e+000, 1.44461390e+000,\n",
       "       1.44463859e+000, 1.44465571e+000, 1.44466538e+000, 1.44466775e+000,\n",
       "       1.44466296e+000, 1.44465112e+000, 1.44463237e+000, 1.44460684e+000,\n",
       "       1.44457465e+000, 1.44453591e+000, 1.44449076e+000, 1.44443930e+000,\n",
       "       1.44438166e+000, 1.44431794e+000, 1.44424825e+000, 1.44417271e+000,\n",
       "       1.44409142e+000, 1.44400449e+000, 1.44391202e+000, 1.44381411e+000,\n",
       "       1.44371086e+000, 1.44360237e+000, 1.44348873e+000, 1.44337005e+000,\n",
       "       1.44324641e+000, 1.44311790e+000, 1.44298461e+000, 1.44284664e+000,\n",
       "       1.44270407e+000, 1.44255697e+000, 1.44240545e+000, 1.44224957e+000,\n",
       "       1.44208942e+000, 1.44192508e+000, 1.44175663e+000, 1.44158414e+000,\n",
       "       1.44140768e+000, 1.44122734e+000, 1.44104318e+000, 1.44085528e+000,\n",
       "       1.44066370e+000, 1.44046852e+000, 1.44026980e+000, 1.44006761e+000,\n",
       "       1.43986201e+000, 1.43965308e+000, 1.43944086e+000, 1.43922543e+000,\n",
       "       1.43900684e+000, 1.43878516e+000, 1.43856044e+000, 1.43833275e+000,\n",
       "       1.43810213e+000, 1.43786865e+000, 1.43763236e+000, 1.43739331e+000,\n",
       "       1.43715157e+000, 1.43690717e+000, 1.43666017e+000, 1.43641063e+000,\n",
       "       1.43615859e+000, 1.43590410e+000, 1.43564721e+000, 1.43538797e+000,\n",
       "       1.43512642e+000, 1.43486261e+000, 1.43459659e+000, 1.43432839e+000,\n",
       "       1.43405806e+000, 1.43378565e+000, 1.43351120e+000, 1.43323475e+000,\n",
       "       1.43295633e+000, 1.43267600e+000, 1.43239378e+000, 1.43210972e+000,\n",
       "       1.43182385e+000, 1.43153622e+000, 1.43124686e+000, 1.43095580e+000,\n",
       "       1.43066309e+000, 1.43036875e+000, 1.43007282e+000, 1.42977534e+000,\n",
       "       1.42947634e+000, 1.42917584e+000, 1.42887390e+000, 1.42857052e+000,\n",
       "       1.42826576e+000, 1.42795963e+000, 1.42765217e+000, 1.42734340e+000,\n",
       "       1.42703337e+000, 1.42672209e+000, 1.42640959e+000, 1.42609590e+000,\n",
       "       1.42578105e+000, 1.42546507e+000, 1.42514798e+000, 1.42482981e+000,\n",
       "       1.42451059e+000, 1.42419033e+000, 1.42386907e+000, 1.42354683e+000,\n",
       "       1.42322363e+000, 1.42289949e+000, 1.42257445e+000, 1.42224852e+000,\n",
       "       1.42192173e+000, 1.42159409e+000, 1.42126563e+000, 1.42093637e+000,\n",
       "       1.42060633e+000, 1.42027554e+000, 1.41994401e+000, 1.41961176e+000,\n",
       "       1.41927882e+000, 1.41894520e+000, 1.41861092e+000, 1.41827600e+000,\n",
       "       1.41794046e+000, 1.41760432e+000, 1.41726759e+000, 1.41693030e+000,\n",
       "       1.41659245e+000, 1.41625408e+000, 1.41591519e+000, 1.41557579e+000,\n",
       "       1.41523592e+000, 1.41489558e+000, 1.41455479e+000, 1.41421356e+000,\n",
       "       1.41387192e+000, 1.41352986e+000, 1.41318742e+000, 1.41284460e+000,\n",
       "       1.41250142e+000, 1.41215790e+000, 1.41181404e+000, 1.41146986e+000,\n",
       "       1.41112537e+000, 1.41078059e+000, 1.41043554e+000, 1.41009021e+000,\n",
       "       1.40974463e+000, 1.40939880e+000, 1.40905275e+000, 1.40870648e+000,\n",
       "       1.40836000e+000, 1.40801333e+000, 1.40766647e+000, 1.40731944e+000,\n",
       "       1.40697226e+000, 1.40662492e+000, 1.40627744e+000, 1.40592983e+000,\n",
       "       1.40558210e+000, 1.40523427e+000, 1.40488634e+000, 1.40453831e+000,\n",
       "       1.40419021e+000, 1.40384205e+000, 1.40349382e+000, 1.40314554e+000,\n",
       "       1.40279722e+000, 1.40244886e+000, 1.40210048e+000, 1.40175209e+000,\n",
       "       1.40140369e+000, 1.40105530e+000, 1.40070691e+000, 1.40035854e+000,\n",
       "       1.40001020e+000, 1.39966189e+000, 1.39931362e+000, 1.39896541e+000,\n",
       "       1.39861725e+000, 1.39826915e+000, 1.39792112e+000, 1.39757318e+000,\n",
       "       1.39722532e+000, 1.39687755e+000, 1.39652988e+000, 1.39618231e+000,\n",
       "       1.39583486e+000, 1.39548753e+000, 1.39514032e+000, 1.39479324e+000,\n",
       "       1.39444630e+000, 1.39409950e+000, 1.39375286e+000, 1.39340636e+000,\n",
       "       1.39306003e+000, 1.39271387e+000, 1.39236787e+000, 1.39202206e+000,\n",
       "       1.39167642e+000, 1.39133098e+000, 1.39098572e+000, 1.39064067e+000,\n",
       "       1.39029582e+000, 1.38995117e+000, 1.38960674e+000, 1.38926253e+000,\n",
       "       1.38891854e+000, 1.38857477e+000, 1.38823124e+000, 1.38788794e+000,\n",
       "       1.38754488e+000, 1.38720207e+000, 1.38685950e+000, 1.38651719e+000,\n",
       "       1.38617513e+000, 1.38583334e+000, 1.38549180e+000, 1.38515054e+000,\n",
       "       1.38480955e+000, 1.38446883e+000, 1.38412839e+000, 1.38378824e+000,\n",
       "       1.38344837e+000, 1.38310879e+000, 1.38276951e+000, 1.38243052e+000,\n",
       "       1.38209183e+000, 1.38175345e+000, 1.38141537e+000, 1.38107760e+000,\n",
       "       1.38074014e+000, 1.38040299e+000, 1.38006617e+000])"
      ]
     },
     "execution_count": 25,
     "metadata": {},
     "output_type": "execute_result"
    }
   ],
   "source": [
    "z"
   ]
  },
  {
   "cell_type": "code",
   "execution_count": 27,
   "metadata": {},
   "outputs": [
    {
     "name": "stdout",
     "output_type": "stream",
     "text": [
      "1.000000000000002e-200\n",
      "1.1258999068426252e-85\n",
      "1.727329369496743e-51\n",
      "1.1258999068426245e-35\n",
      "9.536743164062511e-27\n",
      "4.323686263804907e-21\n",
      "3.172492263083564e-17\n",
      "1.9436803199846723e-14\n",
      "2.4014432449711884e-12\n",
      "9.999999999999991e-11\n",
      "1.929247947546923e-09\n",
      "2.120852100832584e-08\n",
      "1.5281980216635561e-07\n",
      "7.960026994762583e-07\n",
      "3.2156965549418964e-06\n",
      "1.06108430713239e-05\n",
      "2.9732330334032564e-05\n",
      "7.288279654441594e-05\n",
      "0.0001599433988956744\n",
      "0.0003200000000000001\n",
      "0.0005922060393925858\n",
      "0.001025680704682435\n",
      "0.0016784315514083298\n",
      "0.002615452520351886\n",
      "0.00390625\n",
      "0.005622086097758043\n",
      "0.007833211760110008\n",
      "0.010606311982424253\n",
      "0.014002319814269278\n",
      "0.018074689652218572\n",
      "0.022868162542410683\n",
      "0.028418011276338907\n",
      "0.03474972187253063\n",
      "0.04187904936449989\n",
      "0.04981237736923625\n"
     ]
    }
   ],
   "source": [
    "for t in z:\n",
    "    if t<0.05:\n",
    "        print(t)"
   ]
  },
  {
   "cell_type": "code",
   "execution_count": 28,
   "metadata": {},
   "outputs": [
    {
     "name": "stdout",
     "output_type": "stream",
     "text": [
      "0.01\n",
      "0.02\n",
      "0.03\n",
      "0.04\n",
      "0.05\n",
      "0.060000000000000005\n",
      "0.06999999999999999\n",
      "0.08\n",
      "0.09\n",
      "0.09999999999999999\n",
      "0.11\n",
      "0.12\n",
      "0.13\n",
      "0.14\n",
      "0.15000000000000002\n",
      "0.16\n",
      "0.17\n",
      "0.18000000000000002\n",
      "0.19\n",
      "0.2\n",
      "0.21000000000000002\n",
      "0.22\n",
      "0.23\n",
      "0.24000000000000002\n",
      "0.25\n",
      "0.26\n",
      "0.27\n",
      "0.28\n",
      "0.29000000000000004\n",
      "0.3\n",
      "0.31\n",
      "0.32\n",
      "0.33\n",
      "0.34\n",
      "0.35000000000000003\n"
     ]
    }
   ],
   "source": [
    "for t in x:\n",
    "    if t**(1/t)<0.05:\n",
    "        print(t)"
   ]
  },
  {
   "cell_type": "code",
   "execution_count": 18,
   "metadata": {},
   "outputs": [
    {
     "data": {
      "text/plain": [
       "matplotlib.axes._subplots.AxesSubplot"
      ]
     },
     "execution_count": 18,
     "metadata": {},
     "output_type": "execute_result"
    }
   ],
   "source": [
    "type(ax)"
   ]
  },
  {
   "cell_type": "code",
   "execution_count": null,
   "metadata": {},
   "outputs": [],
   "source": []
  }
 ],
 "metadata": {
  "kernelspec": {
   "display_name": "vsc",
   "language": "python",
   "name": "vsc"
  },
  "language_info": {
   "codemirror_mode": {
    "name": "ipython",
    "version": 3
   },
   "file_extension": ".py",
   "mimetype": "text/x-python",
   "name": "python",
   "nbconvert_exporter": "python",
   "pygments_lexer": "ipython3",
   "version": "3.8.10"
  }
 },
 "nbformat": 4,
 "nbformat_minor": 2
}
