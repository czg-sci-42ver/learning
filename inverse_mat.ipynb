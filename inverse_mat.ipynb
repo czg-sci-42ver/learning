{
 "cells": [
  {
   "cell_type": "code",
   "execution_count": 1,
   "id": "2505ac19",
   "metadata": {},
   "outputs": [],
   "source": [
    "import sympy as sym \n",
    "x ,y ,z= sym.symbols('x y z')"
   ]
  },
  {
   "cell_type": "code",
   "execution_count": 2,
   "id": "05d4961a",
   "metadata": {},
   "outputs": [],
   "source": [
    "def matrixfunction(A,B,C,t):\n",
    "    mf = A - t*C + B.inv()\n",
    "    return mf"
   ]
  },
  {
   "cell_type": "code",
   "execution_count": 3,
   "id": "545dc4df",
   "metadata": {},
   "outputs": [
    {
     "data": {
      "text/latex": [
       "$\\displaystyle D E$"
      ],
      "text/plain": [
       "D*E"
      ]
     },
     "execution_count": 3,
     "metadata": {},
     "output_type": "execute_result"
    }
   ],
   "source": [
    "D = sym.MatrixSymbol('D', 5, 5)\n",
    "E= sym.MatrixSymbol('E', 5, 5)\n",
    "\n",
    "sym.MatMul(D,E)"
   ]
  },
  {
   "cell_type": "code",
   "execution_count": 4,
   "id": "1d82d38c",
   "metadata": {},
   "outputs": [
    {
     "data": {
      "text/latex": [
       "$\\displaystyle \\left[\\begin{matrix}D_{0, 0} E_{0, 0} + D_{0, 1} E_{1, 0} + D_{0, 2} E_{2, 0} + D_{0, 3} E_{3, 0} + D_{0, 4} E_{4, 0} & D_{0, 0} E_{0, 1} + D_{0, 1} E_{1, 1} + D_{0, 2} E_{2, 1} + D_{0, 3} E_{3, 1} + D_{0, 4} E_{4, 1} & D_{0, 0} E_{0, 2} + D_{0, 1} E_{1, 2} + D_{0, 2} E_{2, 2} + D_{0, 3} E_{3, 2} + D_{0, 4} E_{4, 2} & D_{0, 0} E_{0, 3} + D_{0, 1} E_{1, 3} + D_{0, 2} E_{2, 3} + D_{0, 3} E_{3, 3} + D_{0, 4} E_{4, 3} & D_{0, 0} E_{0, 4} + D_{0, 1} E_{1, 4} + D_{0, 2} E_{2, 4} + D_{0, 3} E_{3, 4} + D_{0, 4} E_{4, 4}\\\\D_{1, 0} E_{0, 0} + D_{1, 1} E_{1, 0} + D_{1, 2} E_{2, 0} + D_{1, 3} E_{3, 0} + D_{1, 4} E_{4, 0} & D_{1, 0} E_{0, 1} + D_{1, 1} E_{1, 1} + D_{1, 2} E_{2, 1} + D_{1, 3} E_{3, 1} + D_{1, 4} E_{4, 1} & D_{1, 0} E_{0, 2} + D_{1, 1} E_{1, 2} + D_{1, 2} E_{2, 2} + D_{1, 3} E_{3, 2} + D_{1, 4} E_{4, 2} & D_{1, 0} E_{0, 3} + D_{1, 1} E_{1, 3} + D_{1, 2} E_{2, 3} + D_{1, 3} E_{3, 3} + D_{1, 4} E_{4, 3} & D_{1, 0} E_{0, 4} + D_{1, 1} E_{1, 4} + D_{1, 2} E_{2, 4} + D_{1, 3} E_{3, 4} + D_{1, 4} E_{4, 4}\\\\D_{2, 0} E_{0, 0} + D_{2, 1} E_{1, 0} + D_{2, 2} E_{2, 0} + D_{2, 3} E_{3, 0} + D_{2, 4} E_{4, 0} & D_{2, 0} E_{0, 1} + D_{2, 1} E_{1, 1} + D_{2, 2} E_{2, 1} + D_{2, 3} E_{3, 1} + D_{2, 4} E_{4, 1} & D_{2, 0} E_{0, 2} + D_{2, 1} E_{1, 2} + D_{2, 2} E_{2, 2} + D_{2, 3} E_{3, 2} + D_{2, 4} E_{4, 2} & D_{2, 0} E_{0, 3} + D_{2, 1} E_{1, 3} + D_{2, 2} E_{2, 3} + D_{2, 3} E_{3, 3} + D_{2, 4} E_{4, 3} & D_{2, 0} E_{0, 4} + D_{2, 1} E_{1, 4} + D_{2, 2} E_{2, 4} + D_{2, 3} E_{3, 4} + D_{2, 4} E_{4, 4}\\\\D_{3, 0} E_{0, 0} + D_{3, 1} E_{1, 0} + D_{3, 2} E_{2, 0} + D_{3, 3} E_{3, 0} + D_{3, 4} E_{4, 0} & D_{3, 0} E_{0, 1} + D_{3, 1} E_{1, 1} + D_{3, 2} E_{2, 1} + D_{3, 3} E_{3, 1} + D_{3, 4} E_{4, 1} & D_{3, 0} E_{0, 2} + D_{3, 1} E_{1, 2} + D_{3, 2} E_{2, 2} + D_{3, 3} E_{3, 2} + D_{3, 4} E_{4, 2} & D_{3, 0} E_{0, 3} + D_{3, 1} E_{1, 3} + D_{3, 2} E_{2, 3} + D_{3, 3} E_{3, 3} + D_{3, 4} E_{4, 3} & D_{3, 0} E_{0, 4} + D_{3, 1} E_{1, 4} + D_{3, 2} E_{2, 4} + D_{3, 3} E_{3, 4} + D_{3, 4} E_{4, 4}\\\\D_{4, 0} E_{0, 0} + D_{4, 1} E_{1, 0} + D_{4, 2} E_{2, 0} + D_{4, 3} E_{3, 0} + D_{4, 4} E_{4, 0} & D_{4, 0} E_{0, 1} + D_{4, 1} E_{1, 1} + D_{4, 2} E_{2, 1} + D_{4, 3} E_{3, 1} + D_{4, 4} E_{4, 1} & D_{4, 0} E_{0, 2} + D_{4, 1} E_{1, 2} + D_{4, 2} E_{2, 2} + D_{4, 3} E_{3, 2} + D_{4, 4} E_{4, 2} & D_{4, 0} E_{0, 3} + D_{4, 1} E_{1, 3} + D_{4, 2} E_{2, 3} + D_{4, 3} E_{3, 3} + D_{4, 4} E_{4, 3} & D_{4, 0} E_{0, 4} + D_{4, 1} E_{1, 4} + D_{4, 2} E_{2, 4} + D_{4, 3} E_{3, 4} + D_{4, 4} E_{4, 4}\\end{matrix}\\right]$"
      ],
      "text/plain": [
       "Matrix([\n",
       "[D[0, 0]*E[0, 0] + D[0, 1]*E[1, 0] + D[0, 2]*E[2, 0] + D[0, 3]*E[3, 0] + D[0, 4]*E[4, 0], D[0, 0]*E[0, 1] + D[0, 1]*E[1, 1] + D[0, 2]*E[2, 1] + D[0, 3]*E[3, 1] + D[0, 4]*E[4, 1], D[0, 0]*E[0, 2] + D[0, 1]*E[1, 2] + D[0, 2]*E[2, 2] + D[0, 3]*E[3, 2] + D[0, 4]*E[4, 2], D[0, 0]*E[0, 3] + D[0, 1]*E[1, 3] + D[0, 2]*E[2, 3] + D[0, 3]*E[3, 3] + D[0, 4]*E[4, 3], D[0, 0]*E[0, 4] + D[0, 1]*E[1, 4] + D[0, 2]*E[2, 4] + D[0, 3]*E[3, 4] + D[0, 4]*E[4, 4]],\n",
       "[D[1, 0]*E[0, 0] + D[1, 1]*E[1, 0] + D[1, 2]*E[2, 0] + D[1, 3]*E[3, 0] + D[1, 4]*E[4, 0], D[1, 0]*E[0, 1] + D[1, 1]*E[1, 1] + D[1, 2]*E[2, 1] + D[1, 3]*E[3, 1] + D[1, 4]*E[4, 1], D[1, 0]*E[0, 2] + D[1, 1]*E[1, 2] + D[1, 2]*E[2, 2] + D[1, 3]*E[3, 2] + D[1, 4]*E[4, 2], D[1, 0]*E[0, 3] + D[1, 1]*E[1, 3] + D[1, 2]*E[2, 3] + D[1, 3]*E[3, 3] + D[1, 4]*E[4, 3], D[1, 0]*E[0, 4] + D[1, 1]*E[1, 4] + D[1, 2]*E[2, 4] + D[1, 3]*E[3, 4] + D[1, 4]*E[4, 4]],\n",
       "[D[2, 0]*E[0, 0] + D[2, 1]*E[1, 0] + D[2, 2]*E[2, 0] + D[2, 3]*E[3, 0] + D[2, 4]*E[4, 0], D[2, 0]*E[0, 1] + D[2, 1]*E[1, 1] + D[2, 2]*E[2, 1] + D[2, 3]*E[3, 1] + D[2, 4]*E[4, 1], D[2, 0]*E[0, 2] + D[2, 1]*E[1, 2] + D[2, 2]*E[2, 2] + D[2, 3]*E[3, 2] + D[2, 4]*E[4, 2], D[2, 0]*E[0, 3] + D[2, 1]*E[1, 3] + D[2, 2]*E[2, 3] + D[2, 3]*E[3, 3] + D[2, 4]*E[4, 3], D[2, 0]*E[0, 4] + D[2, 1]*E[1, 4] + D[2, 2]*E[2, 4] + D[2, 3]*E[3, 4] + D[2, 4]*E[4, 4]],\n",
       "[D[3, 0]*E[0, 0] + D[3, 1]*E[1, 0] + D[3, 2]*E[2, 0] + D[3, 3]*E[3, 0] + D[3, 4]*E[4, 0], D[3, 0]*E[0, 1] + D[3, 1]*E[1, 1] + D[3, 2]*E[2, 1] + D[3, 3]*E[3, 1] + D[3, 4]*E[4, 1], D[3, 0]*E[0, 2] + D[3, 1]*E[1, 2] + D[3, 2]*E[2, 2] + D[3, 3]*E[3, 2] + D[3, 4]*E[4, 2], D[3, 0]*E[0, 3] + D[3, 1]*E[1, 3] + D[3, 2]*E[2, 3] + D[3, 3]*E[3, 3] + D[3, 4]*E[4, 3], D[3, 0]*E[0, 4] + D[3, 1]*E[1, 4] + D[3, 2]*E[2, 4] + D[3, 3]*E[3, 4] + D[3, 4]*E[4, 4]],\n",
       "[D[4, 0]*E[0, 0] + D[4, 1]*E[1, 0] + D[4, 2]*E[2, 0] + D[4, 3]*E[3, 0] + D[4, 4]*E[4, 0], D[4, 0]*E[0, 1] + D[4, 1]*E[1, 1] + D[4, 2]*E[2, 1] + D[4, 3]*E[3, 1] + D[4, 4]*E[4, 1], D[4, 0]*E[0, 2] + D[4, 1]*E[1, 2] + D[4, 2]*E[2, 2] + D[4, 3]*E[3, 2] + D[4, 4]*E[4, 2], D[4, 0]*E[0, 3] + D[4, 1]*E[1, 3] + D[4, 2]*E[2, 3] + D[4, 3]*E[3, 3] + D[4, 4]*E[4, 3], D[4, 0]*E[0, 4] + D[4, 1]*E[1, 4] + D[4, 2]*E[2, 4] + D[4, 3]*E[3, 4] + D[4, 4]*E[4, 4]]])"
      ]
     },
     "execution_count": 4,
     "metadata": {},
     "output_type": "execute_result"
    }
   ],
   "source": [
    "X = sym.MatMul(D,E)\n",
    "X.as_explicit()"
   ]
  },
  {
   "cell_type": "code",
   "execution_count": 5,
   "id": "047028d8",
   "metadata": {},
   "outputs": [],
   "source": [
    "def solvefor(A,B,t):\n",
    "    C = Matrix(n,n,sym.symbols('D0:n(0:n)'))\n",
    "    print(C)\n",
    "    sol = sym.solve(matrixfunction(A,B,C,t))\n",
    "    print(matrixfunction(A,B,C,t))\n",
    "    display(sol)"
   ]
  },
  {
   "cell_type": "code",
   "execution_count": 6,
   "id": "c1e3c7c0",
   "metadata": {},
   "outputs": [
    {
     "data": {
      "text/plain": [
       "(D0a(0a),\n",
       " D0a(0b),\n",
       " D0a(0c),\n",
       " D0a(0d),\n",
       " D0a(0e),\n",
       " D0a(0f),\n",
       " D0a(0g),\n",
       " D0a(0h),\n",
       " D0a(0i),\n",
       " D0a(0j),\n",
       " D0a(0k),\n",
       " D0a(0l),\n",
       " D0a(0m),\n",
       " D0a(0n),\n",
       " D0b(0a),\n",
       " D0b(0b),\n",
       " D0b(0c),\n",
       " D0b(0d),\n",
       " D0b(0e),\n",
       " D0b(0f),\n",
       " D0b(0g),\n",
       " D0b(0h),\n",
       " D0b(0i),\n",
       " D0b(0j),\n",
       " D0b(0k),\n",
       " D0b(0l),\n",
       " D0b(0m),\n",
       " D0b(0n),\n",
       " D0c(0a),\n",
       " D0c(0b),\n",
       " D0c(0c),\n",
       " D0c(0d),\n",
       " D0c(0e),\n",
       " D0c(0f),\n",
       " D0c(0g),\n",
       " D0c(0h),\n",
       " D0c(0i),\n",
       " D0c(0j),\n",
       " D0c(0k),\n",
       " D0c(0l),\n",
       " D0c(0m),\n",
       " D0c(0n),\n",
       " D0d(0a),\n",
       " D0d(0b),\n",
       " D0d(0c),\n",
       " D0d(0d),\n",
       " D0d(0e),\n",
       " D0d(0f),\n",
       " D0d(0g),\n",
       " D0d(0h),\n",
       " D0d(0i),\n",
       " D0d(0j),\n",
       " D0d(0k),\n",
       " D0d(0l),\n",
       " D0d(0m),\n",
       " D0d(0n),\n",
       " D0e(0a),\n",
       " D0e(0b),\n",
       " D0e(0c),\n",
       " D0e(0d),\n",
       " D0e(0e),\n",
       " D0e(0f),\n",
       " D0e(0g),\n",
       " D0e(0h),\n",
       " D0e(0i),\n",
       " D0e(0j),\n",
       " D0e(0k),\n",
       " D0e(0l),\n",
       " D0e(0m),\n",
       " D0e(0n),\n",
       " D0f(0a),\n",
       " D0f(0b),\n",
       " D0f(0c),\n",
       " D0f(0d),\n",
       " D0f(0e),\n",
       " D0f(0f),\n",
       " D0f(0g),\n",
       " D0f(0h),\n",
       " D0f(0i),\n",
       " D0f(0j),\n",
       " D0f(0k),\n",
       " D0f(0l),\n",
       " D0f(0m),\n",
       " D0f(0n),\n",
       " D0g(0a),\n",
       " D0g(0b),\n",
       " D0g(0c),\n",
       " D0g(0d),\n",
       " D0g(0e),\n",
       " D0g(0f),\n",
       " D0g(0g),\n",
       " D0g(0h),\n",
       " D0g(0i),\n",
       " D0g(0j),\n",
       " D0g(0k),\n",
       " D0g(0l),\n",
       " D0g(0m),\n",
       " D0g(0n),\n",
       " D0h(0a),\n",
       " D0h(0b),\n",
       " D0h(0c),\n",
       " D0h(0d),\n",
       " D0h(0e),\n",
       " D0h(0f),\n",
       " D0h(0g),\n",
       " D0h(0h),\n",
       " D0h(0i),\n",
       " D0h(0j),\n",
       " D0h(0k),\n",
       " D0h(0l),\n",
       " D0h(0m),\n",
       " D0h(0n),\n",
       " D0i(0a),\n",
       " D0i(0b),\n",
       " D0i(0c),\n",
       " D0i(0d),\n",
       " D0i(0e),\n",
       " D0i(0f),\n",
       " D0i(0g),\n",
       " D0i(0h),\n",
       " D0i(0i),\n",
       " D0i(0j),\n",
       " D0i(0k),\n",
       " D0i(0l),\n",
       " D0i(0m),\n",
       " D0i(0n),\n",
       " D0j(0a),\n",
       " D0j(0b),\n",
       " D0j(0c),\n",
       " D0j(0d),\n",
       " D0j(0e),\n",
       " D0j(0f),\n",
       " D0j(0g),\n",
       " D0j(0h),\n",
       " D0j(0i),\n",
       " D0j(0j),\n",
       " D0j(0k),\n",
       " D0j(0l),\n",
       " D0j(0m),\n",
       " D0j(0n),\n",
       " D0k(0a),\n",
       " D0k(0b),\n",
       " D0k(0c),\n",
       " D0k(0d),\n",
       " D0k(0e),\n",
       " D0k(0f),\n",
       " D0k(0g),\n",
       " D0k(0h),\n",
       " D0k(0i),\n",
       " D0k(0j),\n",
       " D0k(0k),\n",
       " D0k(0l),\n",
       " D0k(0m),\n",
       " D0k(0n),\n",
       " D0l(0a),\n",
       " D0l(0b),\n",
       " D0l(0c),\n",
       " D0l(0d),\n",
       " D0l(0e),\n",
       " D0l(0f),\n",
       " D0l(0g),\n",
       " D0l(0h),\n",
       " D0l(0i),\n",
       " D0l(0j),\n",
       " D0l(0k),\n",
       " D0l(0l),\n",
       " D0l(0m),\n",
       " D0l(0n),\n",
       " D0m(0a),\n",
       " D0m(0b),\n",
       " D0m(0c),\n",
       " D0m(0d),\n",
       " D0m(0e),\n",
       " D0m(0f),\n",
       " D0m(0g),\n",
       " D0m(0h),\n",
       " D0m(0i),\n",
       " D0m(0j),\n",
       " D0m(0k),\n",
       " D0m(0l),\n",
       " D0m(0m),\n",
       " D0m(0n),\n",
       " D0n(0a),\n",
       " D0n(0b),\n",
       " D0n(0c),\n",
       " D0n(0d),\n",
       " D0n(0e),\n",
       " D0n(0f),\n",
       " D0n(0g),\n",
       " D0n(0h),\n",
       " D0n(0i),\n",
       " D0n(0j),\n",
       " D0n(0k),\n",
       " D0n(0l),\n",
       " D0n(0m),\n",
       " D0n(0n))"
      ]
     },
     "execution_count": 6,
     "metadata": {},
     "output_type": "execute_result"
    }
   ],
   "source": [
    "sym.symbols('D0:n(0:n)')"
   ]
  },
  {
   "cell_type": "code",
   "execution_count": 7,
   "id": "40484e5f",
   "metadata": {},
   "outputs": [],
   "source": [
    "n=5\n",
    "# sym.symbols(0:n)"
   ]
  },
  {
   "cell_type": "code",
   "execution_count": 8,
   "id": "103ae9b2",
   "metadata": {},
   "outputs": [],
   "source": [
    "n=5\n",
    "# C = Matrix(n,n,sym.symbols('D0:n(0:n)'))"
   ]
  },
  {
   "cell_type": "code",
   "execution_count": 9,
   "id": "efc43de1",
   "metadata": {},
   "outputs": [
    {
     "ename": "TypeError",
     "evalue": "solvefor() missing 1 required positional argument: 't'",
     "output_type": "error",
     "traceback": [
      "\u001b[0;31m---------------------------------------------------------------------------\u001b[0m",
      "\u001b[0;31mTypeError\u001b[0m                                 Traceback (most recent call last)",
      "Input \u001b[0;32mIn [9]\u001b[0m, in \u001b[0;36m<module>\u001b[0;34m\u001b[0m\n\u001b[0;32m----> 1\u001b[0m \u001b[43msolvefor\u001b[49m\u001b[43m(\u001b[49m\u001b[43mE\u001b[49m\u001b[43m,\u001b[49m\u001b[43mD\u001b[49m\u001b[43m)\u001b[49m\n",
      "\u001b[0;31mTypeError\u001b[0m: solvefor() missing 1 required positional argument: 't'"
     ]
    }
   ],
   "source": [
    "# solvefor(E,D)"
   ]
  },
  {
   "cell_type": "code",
   "execution_count": 10,
   "id": "514146e6",
   "metadata": {},
   "outputs": [
    {
     "data": {
      "text/latex": [
       "$\\displaystyle n$"
      ],
      "text/plain": [
       "n"
      ]
     },
     "execution_count": 10,
     "metadata": {},
     "output_type": "execute_result"
    }
   ],
   "source": [
    "from sympy.solvers import solve\n",
    "from sympy import symbols\n",
    "from sympy import MatrixSymbol\n",
    "n=symbols('n')\n",
    "n"
   ]
  },
  {
   "cell_type": "code",
   "execution_count": 11,
   "id": "ecf5c575",
   "metadata": {},
   "outputs": [
    {
     "data": {
      "text/latex": [
       "$\\displaystyle v$"
      ],
      "text/plain": [
       "v"
      ]
     },
     "execution_count": 11,
     "metadata": {},
     "output_type": "execute_result"
    }
   ],
   "source": [
    "v = MatrixSymbol('v', n, 1)\n",
    "v"
   ]
  },
  {
   "cell_type": "code",
   "execution_count": null,
   "id": "89acde3d",
   "metadata": {},
   "outputs": [],
   "source": [
    "Q = MatrixSymbol('Q', n, n)\n",
    "Q.as_explicit()"
   ]
  },
  {
   "cell_type": "code",
   "execution_count": 13,
   "id": "86b96a0a",
   "metadata": {},
   "outputs": [
    {
     "data": {
      "text/latex": [
       "$\\displaystyle Q v$"
      ],
      "text/plain": [
       "Q*v"
      ]
     },
     "execution_count": 13,
     "metadata": {},
     "output_type": "execute_result"
    }
   ],
   "source": [
    "eq=Q*v\n",
    "eq"
   ]
  },
  {
   "cell_type": "code",
   "execution_count": null,
   "id": "9d4084c4",
   "metadata": {},
   "outputs": [],
   "source": [
    "solve(eq,v)"
   ]
  },
  {
   "cell_type": "code",
   "execution_count": null,
   "id": "92df1158",
   "metadata": {},
   "outputs": [],
   "source": [
    "import subprocess\n",
    "import sys\n",
    "\n",
    "def install(package):\n",
    "    subprocess.check_call([sys.executable, \"-m\", \"pip\", \"install\", package])"
   ]
  },
  {
   "cell_type": "code",
   "execution_count": null,
   "id": "18594ae7",
   "metadata": {},
   "outputs": [],
   "source": [
    "install(\"numpy\")"
   ]
  },
  {
   "cell_type": "code",
   "execution_count": null,
   "id": "0c69f87c",
   "metadata": {},
   "outputs": [],
   "source": [
    "import numpy as np"
   ]
  },
  {
   "cell_type": "code",
   "execution_count": null,
   "id": "b2175413",
   "metadata": {},
   "outputs": [],
   "source": [
    "np.matrix?"
   ]
  },
  {
   "cell_type": "code",
   "execution_count": null,
   "id": "28757f63",
   "metadata": {},
   "outputs": [],
   "source": [
    "#a=np.matrix('x 0 0;0 y 0;0 0 z')\n",
    "sym.matrices?\n",
    "from sympy.interactive import printing\n",
    "printing.init_printing(use_latex=True)\n",
    "import sympy as sym\n",
    "X = sym.MatrixSymbol('X', 3, 3)\n",
    "sym.Matrix(X)"
   ]
  },
  {
   "cell_type": "code",
   "execution_count": null,
   "id": "6eea7ffe",
   "metadata": {},
   "outputs": [],
   "source": [
    "def matrixfunction(A,B,C,t):\n",
    "    mf = A - t*C + B.inv()\n",
    "    return mf"
   ]
  },
  {
   "cell_type": "code",
   "execution_count": null,
   "id": "061e048f",
   "metadata": {},
   "outputs": [],
   "source": [
    "from sympy import *\n",
    "x1, x2, x3 = symbols('x1 x2 x3')\n",
    "mat = diag(x1,x2,x3)-eye(3)+ones(3)\n",
    "mat"
   ]
  },
  {
   "cell_type": "code",
   "execution_count": null,
   "id": "2a15d3ba",
   "metadata": {},
   "outputs": [],
   "source": [
    "n = sym.symbols('n')\n",
    "mat.inv()\n",
    "# mat.\n",
    "# mat.pow(n)\n",
    "# mat**10"
   ]
  },
  {
   "cell_type": "code",
   "execution_count": null,
   "id": "2b308cde",
   "metadata": {},
   "outputs": [],
   "source": [
    "diag(x1,x2,x3).inv()\n",
    "# print(\"test\")"
   ]
  },
  {
   "cell_type": "code",
   "execution_count": null,
   "id": "9c87e491",
   "metadata": {},
   "outputs": [],
   "source": [
    "from sympy import *\n",
    "Y = MatrixSymbol('Y', 3, 3)\n",
    "# https://stephens999.github.io/fiveMinuteStats/markov_chains_discrete_stationary_dist.html\n",
    "Matrix(X)*diag(x1,x2,x3)**n*Matrix(Y)"
   ]
  },
  {
   "cell_type": "code",
   "execution_count": null,
   "id": "c2873273",
   "metadata": {},
   "outputs": [],
   "source": [
    "diag(x1,x2,x3).inv()@diag(x1,x2,x3)"
   ]
  },
  {
   "cell_type": "code",
   "execution_count": null,
   "id": "66f71665",
   "metadata": {},
   "outputs": [],
   "source": [
    "eye(3)"
   ]
  },
  {
   "cell_type": "code",
   "execution_count": null,
   "id": "2542b8b7",
   "metadata": {},
   "outputs": [],
   "source": [
    "??invert\n",
    "help(invert)"
   ]
  },
  {
   "cell_type": "code",
   "execution_count": null,
   "id": "8abee94c",
   "metadata": {},
   "outputs": [],
   "source": []
  },
  {
   "cell_type": "code",
   "execution_count": null,
   "id": "2d552066",
   "metadata": {},
   "outputs": [],
   "source": []
  },
  {
   "cell_type": "code",
   "execution_count": null,
   "id": "c039592b",
   "metadata": {},
   "outputs": [],
   "source": []
  },
  {
   "cell_type": "code",
   "execution_count": null,
   "id": "adf31c10",
   "metadata": {},
   "outputs": [],
   "source": []
  },
  {
   "cell_type": "code",
   "execution_count": null,
   "id": "211ddaf2",
   "metadata": {},
   "outputs": [],
   "source": []
  },
  {
   "cell_type": "code",
   "execution_count": null,
   "id": "169c0398",
   "metadata": {},
   "outputs": [],
   "source": []
  }
 ],
 "metadata": {
  "interpreter": {
   "hash": "1fbbc1d4dcbb591b4fb731c553ba76f295e5f0a5079295ab05074697f1df8e3f"
  },
  "kernelspec": {
   "display_name": "vsc",
   "language": "python",
   "name": "vsc"
  },
  "language_info": {
   "codemirror_mode": {
    "name": "ipython",
    "version": 3
   },
   "file_extension": ".py",
   "mimetype": "text/x-python",
   "name": "python",
   "nbconvert_exporter": "python",
   "pygments_lexer": "ipython3",
   "version": "3.8.10"
  }
 },
 "nbformat": 4,
 "nbformat_minor": 5
}
