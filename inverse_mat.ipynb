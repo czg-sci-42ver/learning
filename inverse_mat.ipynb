{
 "cells": [
  {
   "cell_type": "code",
   "execution_count": 2,
   "id": "2505ac19",
   "metadata": {},
   "outputs": [],
   "source": [
    "import sympy as sym \n",
    "x ,y ,z= sym.symbols('x y z')"
   ]
  },
  {
   "cell_type": "code",
   "execution_count": 3,
   "id": "92df1158",
   "metadata": {},
   "outputs": [],
   "source": [
    "import subprocess\n",
    "import sys\n",
    "\n",
    "def install(package):\n",
    "    subprocess.check_call([sys.executable, \"-m\", \"pip\", \"install\", package])"
   ]
  },
  {
   "cell_type": "code",
   "execution_count": 4,
   "id": "18594ae7",
   "metadata": {},
   "outputs": [
    {
     "name": "stdout",
     "output_type": "stream",
     "text": [
      "Looking in indexes: https://pypi.tuna.tsinghua.edu.cn/simple\n",
      "Requirement already satisfied: numpy in /home/czg/.virtualenvs/vsc/lib/python3.8/site-packages (1.22.2)\n"
     ]
    },
    {
     "name": "stderr",
     "output_type": "stream",
     "text": [
      "WARNING: You are using pip version 21.3.1; however, version 22.0.3 is available.\n",
      "You should consider upgrading via the '/home/czg/.virtualenvs/vsc/bin/python -m pip install --upgrade pip' command.\n"
     ]
    }
   ],
   "source": [
    "install(\"numpy\")"
   ]
  },
  {
   "cell_type": "code",
   "execution_count": 5,
   "id": "0c69f87c",
   "metadata": {},
   "outputs": [],
   "source": [
    "import numpy as np"
   ]
  },
  {
   "cell_type": "code",
   "execution_count": 6,
   "id": "b2175413",
   "metadata": {},
   "outputs": [],
   "source": [
    "np.matrix?"
   ]
  },
  {
   "cell_type": "code",
   "execution_count": 7,
   "id": "28757f63",
   "metadata": {},
   "outputs": [
    {
     "data": {
      "text/latex": [
       "$\\displaystyle \\left[\\begin{array}{ccc}X_{0, 0} & X_{0, 1} & X_{0, 2}\\\\X_{1, 0} & X_{1, 1} & X_{1, 2}\\\\X_{2, 0} & X_{2, 1} & X_{2, 2}\\end{array}\\right]$"
      ],
      "text/plain": [
       "Matrix([\n",
       "[X[0, 0], X[0, 1], X[0, 2]],\n",
       "[X[1, 0], X[1, 1], X[1, 2]],\n",
       "[X[2, 0], X[2, 1], X[2, 2]]])"
      ]
     },
     "execution_count": 7,
     "metadata": {},
     "output_type": "execute_result"
    }
   ],
   "source": [
    "#a=np.matrix('x 0 0;0 y 0;0 0 z')\n",
    "sym.matrices?\n",
    "X = sym.MatrixSymbol('X', 3, 3)\n",
    "sym.Matrix(X)"
   ]
  },
  {
   "cell_type": "code",
   "execution_count": 8,
   "id": "061e048f",
   "metadata": {},
   "outputs": [
    {
     "data": {
      "text/latex": [
       "$\\displaystyle \\left[\\begin{matrix}x_{1} & 1 & 1\\\\1 & x_{2} & 1\\\\1 & 1 & x_{3}\\end{matrix}\\right]$"
      ],
      "text/plain": [
       "Matrix([\n",
       "[x1,  1,  1],\n",
       "[ 1, x2,  1],\n",
       "[ 1,  1, x3]])"
      ]
     },
     "execution_count": 8,
     "metadata": {},
     "output_type": "execute_result"
    }
   ],
   "source": [
    "from sympy import *\n",
    "x1, x2, x3 = symbols('x1 x2 x3')\n",
    "mat = diag(x1,x2,x3)-eye(3)+ones(3)\n",
    "mat"
   ]
  },
  {
   "cell_type": "code",
   "execution_count": 9,
   "id": "2a15d3ba",
   "metadata": {},
   "outputs": [
    {
     "data": {
      "text/latex": [
       "$\\displaystyle \\left[\\begin{matrix}\\frac{x_{2} x_{3} - 1}{x_{1} x_{2} x_{3} - x_{1} - x_{2} - x_{3} + 2} & \\frac{1 - x_{3}}{x_{1} x_{2} x_{3} - x_{1} - x_{2} - x_{3} + 2} & \\frac{1 - x_{2}}{x_{1} x_{2} x_{3} - x_{1} - x_{2} - x_{3} + 2}\\\\\\frac{1 - x_{3}}{x_{1} x_{2} x_{3} - x_{1} - x_{2} - x_{3} + 2} & \\frac{x_{1} x_{3} - 1}{x_{1} x_{2} x_{3} - x_{1} - x_{2} - x_{3} + 2} & \\frac{1 - x_{1}}{x_{1} x_{2} x_{3} - x_{1} - x_{2} - x_{3} + 2}\\\\\\frac{1 - x_{2}}{x_{1} x_{2} x_{3} - x_{1} - x_{2} - x_{3} + 2} & \\frac{1 - x_{1}}{x_{1} x_{2} x_{3} - x_{1} - x_{2} - x_{3} + 2} & \\frac{x_{1} x_{2} - 1}{x_{1} x_{2} x_{3} - x_{1} - x_{2} - x_{3} + 2}\\end{matrix}\\right]$"
      ],
      "text/plain": [
       "Matrix([\n",
       "[(x2*x3 - 1)/(x1*x2*x3 - x1 - x2 - x3 + 2),    (1 - x3)/(x1*x2*x3 - x1 - x2 - x3 + 2),    (1 - x2)/(x1*x2*x3 - x1 - x2 - x3 + 2)],\n",
       "[   (1 - x3)/(x1*x2*x3 - x1 - x2 - x3 + 2), (x1*x3 - 1)/(x1*x2*x3 - x1 - x2 - x3 + 2),    (1 - x1)/(x1*x2*x3 - x1 - x2 - x3 + 2)],\n",
       "[   (1 - x2)/(x1*x2*x3 - x1 - x2 - x3 + 2),    (1 - x1)/(x1*x2*x3 - x1 - x2 - x3 + 2), (x1*x2 - 1)/(x1*x2*x3 - x1 - x2 - x3 + 2)]])"
      ]
     },
     "execution_count": 9,
     "metadata": {},
     "output_type": "execute_result"
    }
   ],
   "source": [
    "n = sym.symbols('n')\n",
    "mat.inv()\n",
    "# mat.\n",
    "# mat.pow(n)\n",
    "# mat**10"
   ]
  },
  {
   "cell_type": "code",
   "execution_count": 20,
   "id": "2b308cde",
   "metadata": {},
   "outputs": [
    {
     "data": {
      "text/latex": [
       "$\\displaystyle \\left[\\begin{matrix}\\frac{1}{x_{1}} & 0 & 0\\\\0 & \\frac{1}{x_{2}} & 0\\\\0 & 0 & \\frac{1}{x_{3}}\\end{matrix}\\right]$"
      ],
      "text/plain": [
       "Matrix([\n",
       "[1/x1,    0,    0],\n",
       "[   0, 1/x2,    0],\n",
       "[   0,    0, 1/x3]])"
      ]
     },
     "execution_count": 20,
     "metadata": {},
     "output_type": "execute_result"
    }
   ],
   "source": [
    "diag(x1,x2,x3).inv()\n",
    "# print(\"test\")"
   ]
  },
  {
   "cell_type": "code",
   "execution_count": 17,
   "id": "9c87e491",
   "metadata": {},
   "outputs": [
    {
     "data": {
      "text/latex": [
       "$\\displaystyle \\left[\\begin{array}{ccc}x_{1}^{n} X_{0, 0} Y_{0, 0} + x_{2}^{n} X_{0, 1} Y_{1, 0} + x_{3}^{n} X_{0, 2} Y_{2, 0} & x_{1}^{n} X_{0, 0} Y_{0, 1} + x_{2}^{n} X_{0, 1} Y_{1, 1} + x_{3}^{n} X_{0, 2} Y_{2, 1} & x_{1}^{n} X_{0, 0} Y_{0, 2} + x_{2}^{n} X_{0, 1} Y_{1, 2} + x_{3}^{n} X_{0, 2} Y_{2, 2}\\\\x_{1}^{n} X_{1, 0} Y_{0, 0} + x_{2}^{n} X_{1, 1} Y_{1, 0} + x_{3}^{n} X_{1, 2} Y_{2, 0} & x_{1}^{n} X_{1, 0} Y_{0, 1} + x_{2}^{n} X_{1, 1} Y_{1, 1} + x_{3}^{n} X_{1, 2} Y_{2, 1} & x_{1}^{n} X_{1, 0} Y_{0, 2} + x_{2}^{n} X_{1, 1} Y_{1, 2} + x_{3}^{n} X_{1, 2} Y_{2, 2}\\\\x_{1}^{n} X_{2, 0} Y_{0, 0} + x_{2}^{n} X_{2, 1} Y_{1, 0} + x_{3}^{n} X_{2, 2} Y_{2, 0} & x_{1}^{n} X_{2, 0} Y_{0, 1} + x_{2}^{n} X_{2, 1} Y_{1, 1} + x_{3}^{n} X_{2, 2} Y_{2, 1} & x_{1}^{n} X_{2, 0} Y_{0, 2} + x_{2}^{n} X_{2, 1} Y_{1, 2} + x_{3}^{n} X_{2, 2} Y_{2, 2}\\end{array}\\right]$"
      ],
      "text/plain": [
       "Matrix([\n",
       "[x1**n*X[0, 0]*Y[0, 0] + x2**n*X[0, 1]*Y[1, 0] + x3**n*X[0, 2]*Y[2, 0], x1**n*X[0, 0]*Y[0, 1] + x2**n*X[0, 1]*Y[1, 1] + x3**n*X[0, 2]*Y[2, 1], x1**n*X[0, 0]*Y[0, 2] + x2**n*X[0, 1]*Y[1, 2] + x3**n*X[0, 2]*Y[2, 2]],\n",
       "[x1**n*X[1, 0]*Y[0, 0] + x2**n*X[1, 1]*Y[1, 0] + x3**n*X[1, 2]*Y[2, 0], x1**n*X[1, 0]*Y[0, 1] + x2**n*X[1, 1]*Y[1, 1] + x3**n*X[1, 2]*Y[2, 1], x1**n*X[1, 0]*Y[0, 2] + x2**n*X[1, 1]*Y[1, 2] + x3**n*X[1, 2]*Y[2, 2]],\n",
       "[x1**n*X[2, 0]*Y[0, 0] + x2**n*X[2, 1]*Y[1, 0] + x3**n*X[2, 2]*Y[2, 0], x1**n*X[2, 0]*Y[0, 1] + x2**n*X[2, 1]*Y[1, 1] + x3**n*X[2, 2]*Y[2, 1], x1**n*X[2, 0]*Y[0, 2] + x2**n*X[2, 1]*Y[1, 2] + x3**n*X[2, 2]*Y[2, 2]]])"
      ]
     },
     "execution_count": 17,
     "metadata": {},
     "output_type": "execute_result"
    }
   ],
   "source": [
    "from sympy import *\n",
    "Y = MatrixSymbol('Y', 3, 3)\n",
    "# https://stephens999.github.io/fiveMinuteStats/markov_chains_discrete_stationary_dist.html\n",
    "Matrix(X)*diag(x1,x2,x3)**n*Matrix(Y)"
   ]
  },
  {
   "cell_type": "code",
   "execution_count": 12,
   "id": "c2873273",
   "metadata": {},
   "outputs": [
    {
     "data": {
      "text/latex": [
       "$\\displaystyle \\left[\\begin{matrix}1 & 0 & 0\\\\0 & 1 & 0\\\\0 & 0 & 1\\end{matrix}\\right]$"
      ],
      "text/plain": [
       "Matrix([\n",
       "[1, 0, 0],\n",
       "[0, 1, 0],\n",
       "[0, 0, 1]])"
      ]
     },
     "execution_count": 12,
     "metadata": {},
     "output_type": "execute_result"
    }
   ],
   "source": [
    "diag(x1,x2,x3).inv()@diag(x1,x2,x3)"
   ]
  },
  {
   "cell_type": "code",
   "execution_count": 13,
   "id": "66f71665",
   "metadata": {},
   "outputs": [
    {
     "data": {
      "text/latex": [
       "$\\displaystyle \\left[\\begin{matrix}1 & 0 & 0\\\\0 & 1 & 0\\\\0 & 0 & 1\\end{matrix}\\right]$"
      ],
      "text/plain": [
       "Matrix([\n",
       "[1, 0, 0],\n",
       "[0, 1, 0],\n",
       "[0, 0, 1]])"
      ]
     },
     "execution_count": 13,
     "metadata": {},
     "output_type": "execute_result"
    }
   ],
   "source": [
    "eye(3)"
   ]
  },
  {
   "cell_type": "code",
   "execution_count": 14,
   "id": "2542b8b7",
   "metadata": {},
   "outputs": [
    {
     "name": "stdout",
     "output_type": "stream",
     "text": [
      "Help on function invert in module sympy.polys.polytools:\n",
      "\n",
      "invert(f, g, *gens, **args)\n",
      "    Invert ``f`` modulo ``g`` when possible.\n",
      "    \n",
      "    Examples\n",
      "    ========\n",
      "    \n",
      "    >>> from sympy import invert, S\n",
      "    >>> from sympy.core.numbers import mod_inverse\n",
      "    >>> from sympy.abc import x\n",
      "    \n",
      "    >>> invert(x**2 - 1, 2*x - 1)\n",
      "    -4/3\n",
      "    \n",
      "    >>> invert(x**2 - 1, x - 1)\n",
      "    Traceback (most recent call last):\n",
      "    ...\n",
      "    NotInvertible: zero divisor\n",
      "    \n",
      "    For more efficient inversion of Rationals,\n",
      "    use the :obj:`~.mod_inverse` function:\n",
      "    \n",
      "    >>> mod_inverse(3, 5)\n",
      "    2\n",
      "    >>> (S(2)/5).invert(S(7)/3)\n",
      "    5/2\n",
      "    \n",
      "    See Also\n",
      "    ========\n",
      "    \n",
      "    sympy.core.numbers.mod_inverse\n",
      "\n"
     ]
    }
   ],
   "source": [
    "??invert\n",
    "help(invert)"
   ]
  },
  {
   "cell_type": "code",
   "execution_count": null,
   "id": "8abee94c",
   "metadata": {},
   "outputs": [],
   "source": []
  },
  {
   "cell_type": "code",
   "execution_count": null,
   "id": "2d552066",
   "metadata": {},
   "outputs": [],
   "source": []
  },
  {
   "cell_type": "code",
   "execution_count": null,
   "id": "c039592b",
   "metadata": {},
   "outputs": [],
   "source": []
  },
  {
   "cell_type": "code",
   "execution_count": null,
   "id": "adf31c10",
   "metadata": {},
   "outputs": [],
   "source": []
  },
  {
   "cell_type": "code",
   "execution_count": null,
   "id": "211ddaf2",
   "metadata": {},
   "outputs": [],
   "source": []
  },
  {
   "cell_type": "code",
   "execution_count": null,
   "id": "169c0398",
   "metadata": {},
   "outputs": [],
   "source": []
  }
 ],
 "metadata": {
  "interpreter": {
   "hash": "1fbbc1d4dcbb591b4fb731c553ba76f295e5f0a5079295ab05074697f1df8e3f"
  },
  "kernelspec": {
   "display_name": "vsc",
   "language": "python",
   "name": "vsc"
  },
  "language_info": {
   "codemirror_mode": {
    "name": "ipython",
    "version": 3
   },
   "file_extension": ".py",
   "mimetype": "text/x-python",
   "name": "python",
   "nbconvert_exporter": "python",
   "pygments_lexer": "ipython3",
   "version": "3.8.10"
  }
 },
 "nbformat": 4,
 "nbformat_minor": 5
}
