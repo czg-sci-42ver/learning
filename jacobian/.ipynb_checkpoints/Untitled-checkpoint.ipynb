{
 "cells": [
  {
   "cell_type": "code",
   "execution_count": 2,
   "id": "5232c83b",
   "metadata": {},
   "outputs": [
    {
     "data": {
      "text/plain": [
       "array([[[ 2.        ,  0.        ],\n",
       "        [-1.2       ,  0.        ],\n",
       "        [ 0.        ,  0.        ]],\n",
       "\n",
       "       [[ 0.        ,  2.        ],\n",
       "        [ 0.        , -1.33333333],\n",
       "        [ 0.        ,  0.        ]]])"
      ]
     },
     "execution_count": 2,
     "metadata": {},
     "output_type": "execute_result"
    }
   ],
   "source": [
    "import autograd.numpy as np\n",
    "from autograd import grad, jacobian\n",
    "\n",
    "x = np.array([5,3], dtype=float)\n",
    "\n",
    "def cost(x):\n",
    "    return x[0]**2 / x[1] - np.log(x[1])\n",
    "def derev_1(x):\n",
    "    return x[0]*2 / x[1] - np.log(x[1])\n",
    "\n",
    "gradient_cost = grad(cost)\n",
    "jacobian_cost = jacobian(cost)\n",
    "\n",
    "gradient_cost(x)\n",
    "jacobian_cost(np.array([x,x,x]))"
   ]
  },
  {
   "cell_type": "code",
   "execution_count": 3,
   "id": "ccfe9a45",
   "metadata": {},
   "outputs": [
    {
     "data": {
      "text/plain": [
       "array([5., 3.])"
      ]
     },
     "execution_count": 3,
     "metadata": {},
     "output_type": "execute_result"
    }
   ],
   "source": [
    "x"
   ]
  },
  {
   "cell_type": "code",
   "execution_count": 5,
   "id": "c8765112",
   "metadata": {},
   "outputs": [
    {
     "data": {
      "text/plain": [
       "array([3.39056209, 1.90138771])"
      ]
     },
     "execution_count": 5,
     "metadata": {},
     "output_type": "execute_result"
    }
   ],
   "source": [
    "cost(np.array([x,x,x]))"
   ]
  },
  {
   "cell_type": "code",
   "execution_count": null,
   "id": "bc8e42b8",
   "metadata": {},
   "outputs": [],
   "source": []
  }
 ],
 "metadata": {
  "kernelspec": {
   "display_name": "vsc",
   "language": "python",
   "name": "vsc"
  },
  "language_info": {
   "codemirror_mode": {
    "name": "ipython",
    "version": 3
   },
   "file_extension": ".py",
   "mimetype": "text/x-python",
   "name": "python",
   "nbconvert_exporter": "python",
   "pygments_lexer": "ipython3",
   "version": "3.8.10"
  }
 },
 "nbformat": 4,
 "nbformat_minor": 5
}
