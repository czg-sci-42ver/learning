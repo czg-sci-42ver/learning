{
 "cells": [
  {
   "cell_type": "code",
   "execution_count": 3,
   "id": "898d59ac",
   "metadata": {},
   "outputs": [
    {
     "data": {
      "text/plain": [
       "array([[[ 2.        ,  0.        ],\n",
       "        [-1.2       ,  0.        ],\n",
       "        [ 0.        ,  0.        ]],\n",
       "\n",
       "       [[ 0.        ,  2.        ],\n",
       "        [ 0.        , -1.33333333],\n",
       "        [ 0.        ,  0.        ]]])"
      ]
     },
     "execution_count": 3,
     "metadata": {},
     "output_type": "execute_result"
    }
   ],
   "source": [
    "import autograd.numpy as np\n",
    "from autograd import grad, jacobian\n",
    "\n",
    "x = np.array([5,3], dtype=float)\n",
    "\n",
    "def cost(x):\n",
    "    return x[0]**2 / x[1] - np.log(x[1])\n",
    "def derev_1(x):\n",
    "    return x[0]*2 / x[1] - np.log(x[1])\n",
    "\n",
    "gradient_cost = grad(cost)\n",
    "jacobian_cost = jacobian(cost)\n",
    "\n",
    "gradient_cost(x)\n",
    "jacobian_cost(np.array([x,x,x]))"
   ]
  },
  {
   "cell_type": "code",
   "execution_count": 4,
   "id": "40056553",
   "metadata": {},
   "outputs": [
    {
     "data": {
      "text/plain": [
       "array([5., 3.])"
      ]
     },
     "execution_count": 4,
     "metadata": {},
     "output_type": "execute_result"
    }
   ],
   "source": [
    "x"
   ]
  },
  {
   "cell_type": "code",
   "execution_count": 5,
   "id": "e9faeaaf",
   "metadata": {},
   "outputs": [
    {
     "data": {
      "text/plain": [
       "array([3.39056209, 1.90138771])"
      ]
     },
     "execution_count": 5,
     "metadata": {},
     "output_type": "execute_result"
    }
   ],
   "source": [
    "cost(np.array([x,x,x]))"
   ]
  },
  {
   "cell_type": "code",
   "execution_count": 6,
   "id": "0118b81f",
   "metadata": {},
   "outputs": [
    {
     "data": {
      "text/plain": [
       "array([0.39056209, 0.90138771])"
      ]
     },
     "execution_count": 6,
     "metadata": {},
     "output_type": "execute_result"
    }
   ],
   "source": [
    "derev_1(np.array([x,x,x]))"
   ]
  },
  {
   "cell_type": "code",
   "execution_count": 7,
   "id": "8e749fbd",
   "metadata": {},
   "outputs": [
    {
     "data": {
      "text/plain": [
       "array([5., 3.])"
      ]
     },
     "execution_count": 7,
     "metadata": {},
     "output_type": "execute_result"
    }
   ],
   "source": [
    "np.array([x,x,x])[0]"
   ]
  },
  {
   "cell_type": "code",
   "execution_count": 8,
   "id": "70b94e58",
   "metadata": {},
   "outputs": [
    {
     "data": {
      "text/latex": [
       "$\\displaystyle \\left[\\begin{matrix}\\cos{\\left(\\phi \\right)} & - \\rho \\sin{\\left(\\phi \\right)}\\\\\\sin{\\left(\\phi \\right)} & \\rho \\cos{\\left(\\phi \\right)}\\\\2 \\rho & 0\\end{matrix}\\right]$"
      ],
      "text/plain": [
       "Matrix([\n",
       "[cos(phi), -rho*sin(phi)],\n",
       "[sin(phi),  rho*cos(phi)],\n",
       "[   2*rho,             0]])"
      ]
     },
     "execution_count": 8,
     "metadata": {},
     "output_type": "execute_result"
    }
   ],
   "source": [
    "from sympy import sin, cos, Matrix\n",
    "from sympy.abc import rho, phi\n",
    "X = Matrix([rho*cos(phi), rho*sin(phi), rho**2])\n",
    "Y = Matrix([rho, phi])\n",
    "X.jacobian(Y)\n"
   ]
  },
  {
   "cell_type": "code",
   "execution_count": 9,
   "id": "eb7bb4d4",
   "metadata": {},
   "outputs": [
    {
     "data": {
      "text/latex": [
       "$\\displaystyle \\left[\\begin{matrix}\\cos{\\left(\\phi \\right)} & - \\rho \\sin{\\left(\\phi \\right)}\\\\\\sin{\\left(\\phi \\right)} & \\rho \\cos{\\left(\\phi \\right)}\\end{matrix}\\right]$"
      ],
      "text/plain": [
       "Matrix([\n",
       "[cos(phi), -rho*sin(phi)],\n",
       "[sin(phi),  rho*cos(phi)]])"
      ]
     },
     "execution_count": 9,
     "metadata": {},
     "output_type": "execute_result"
    }
   ],
   "source": [
    "# Matrix([\n",
    "# [cos(phi), -rho*sin(phi)],\n",
    "# [sin(phi),  rho*cos(phi)],\n",
    "# [   2*rho,             0]])\n",
    "X = Matrix([rho*cos(phi), rho*sin(phi)])\n",
    "X.jacobian(Y)"
   ]
  },
  {
   "cell_type": "code",
   "execution_count": 19,
   "id": "f2eeadfb",
   "metadata": {},
   "outputs": [
    {
     "data": {
      "text/latex": [
       "$\\displaystyle \\left[\\begin{matrix}X_{0, 0} & X_{1, 0} & X_{2, 0}\\\\Y_{0, 0} & Y_{1, 0} & Y_{2, 0}\\\\\\theta_{0, 0} & \\theta_{1, 0} & \\theta_{2, 0}\\end{matrix}\\right]$"
      ],
      "text/plain": [
       "Matrix([\n",
       "[    X[0, 0],     X[1, 0],     X[2, 0]],\n",
       "[    Y[0, 0],     Y[1, 0],     Y[2, 0]],\n",
       "[theta[0, 0], theta[1, 0], theta[2, 0]]])"
      ]
     },
     "execution_count": 19,
     "metadata": {},
     "output_type": "execute_result"
    }
   ],
   "source": [
    "from sympy import MatrixSymbol\n",
    "from sympy.abc import T,C\n",
    "X = MatrixSymbol('X', 3, 1)\n",
    "Y = MatrixSymbol('Y', 3, 1) \n",
    "theta = MatrixSymbol('theta', 3, 1) \n",
    "# two columns are teb states\n",
    "# last is enemy\n",
    "\n",
    "poses = Matrix([[X,Y,theta]]).T\n",
    "poses\n"
   ]
  },
  {
   "cell_type": "code",
   "execution_count": 11,
   "id": "54c0fb51",
   "metadata": {},
   "outputs": [
    {
     "data": {
      "text/plain": [
       "2"
      ]
     },
     "execution_count": 11,
     "metadata": {},
     "output_type": "execute_result"
    }
   ],
   "source": [
    "poses.shape[0]"
   ]
  },
  {
   "cell_type": "code",
   "execution_count": 20,
   "id": "81ad5b76",
   "metadata": {},
   "outputs": [
    {
     "data": {
      "text/latex": [
       "$\\displaystyle \\left[\\begin{matrix}\\frac{X_{0, 0}}{2} + \\frac{X_{1, 0}}{2}\\\\\\frac{Y_{0, 0}}{2} + \\frac{Y_{1, 0}}{2}\\\\\\frac{\\theta_{0, 0}}{2} + \\frac{\\theta_{1, 0}}{2}\\end{matrix}\\right]$"
      ],
      "text/plain": [
       "Matrix([\n",
       "[        X[0, 0]/2 + X[1, 0]/2],\n",
       "[        Y[0, 0]/2 + Y[1, 0]/2],\n",
       "[theta[0, 0]/2 + theta[1, 0]/2]])"
      ]
     },
     "execution_count": 20,
     "metadata": {},
     "output_type": "execute_result"
    }
   ],
   "source": [
    "import sympy\n",
    "middle_pose = poses[:,0:2] * sympy.ones(poses.shape[1]-1,1)/2\n",
    "# middle_pose = middle_pose[0:2,:]\n",
    "middle_pose\n"
   ]
  },
  {
   "cell_type": "code",
   "execution_count": 13,
   "id": "a4ff8664",
   "metadata": {},
   "outputs": [
    {
     "data": {
      "text/plain": [
       "4"
      ]
     },
     "execution_count": 13,
     "metadata": {},
     "output_type": "execute_result"
    }
   ],
   "source": [
    "# middle_pose = Matrix[sympy.sum(poses[0,:])/2]\n",
    "# middle_pose\n",
    "2**2"
   ]
  },
  {
   "cell_type": "code",
   "execution_count": 21,
   "id": "d382ea7d",
   "metadata": {},
   "outputs": [
    {
     "data": {
      "text/latex": [
       "$\\displaystyle \\left[\\begin{matrix}\\frac{X_{0, 0}}{2} + \\frac{X_{1, 0}}{2} - X_{2, 0}\\\\\\frac{Y_{0, 0}}{2} + \\frac{Y_{1, 0}}{2} - Y_{2, 0}\\end{matrix}\\right]$"
      ],
      "text/plain": [
       "Matrix([\n",
       "[X[0, 0]/2 + X[1, 0]/2 - X[2, 0]],\n",
       "[Y[0, 0]/2 + Y[1, 0]/2 - Y[2, 0]]])"
      ]
     },
     "execution_count": 21,
     "metadata": {},
     "output_type": "execute_result"
    }
   ],
   "source": [
    "from sympy import Matrix\n",
    "dist_related_mat = Matrix([[middle_pose[0,0]-poses[0,2]],[middle_pose[1,0]-poses[1,2]]])\n",
    "dist_related_mat\n"
   ]
  },
  {
   "cell_type": "code",
   "execution_count": 15,
   "id": "6960b2de",
   "metadata": {},
   "outputs": [],
   "source": [
    "# sympy.Pow(middle_pose[0,1]-poses[1,2],2)"
   ]
  },
  {
   "cell_type": "code",
   "execution_count": 18,
   "id": "d533b247",
   "metadata": {},
   "outputs": [
    {
     "data": {
      "text/latex": [
       "$\\displaystyle \\left[\\begin{matrix}\\frac{T}{C \\left(\\left(\\frac{X_{0, 0}}{2} + \\frac{X_{1, 0}}{2} - X_{2, 0}\\right)^{2} + \\left(\\frac{Y_{0, 0}}{2} + \\frac{Y_{1, 0}}{2} - Y_{2, 0}\\right)^{2} + 1\\right)}\\end{matrix}\\right]$"
      ],
      "text/plain": [
       "Matrix([[T/(C*((X[0, 0]/2 + X[1, 0]/2 - X[2, 0])**2 + (Y[0, 0]/2 + Y[1, 0]/2 - Y[2, 0])**2 + 1))]])"
      ]
     },
     "execution_count": 18,
     "metadata": {},
     "output_type": "execute_result"
    }
   ],
   "source": [
    "# dist_param = 1\n",
    "from sympy import Matrix\n",
    "error_mat = Matrix([[T*1/(C*((dist_related_mat[0,0])**2+(dist_related_mat[1,0])**2+1))]])\n",
    "error_mat"
   ]
  },
  {
   "cell_type": "code",
   "execution_count": 23,
   "id": "77d1bc4a",
   "metadata": {},
   "outputs": [
    {
     "data": {
      "text/latex": [
       "$\\displaystyle \\left[\\begin{matrix}X_{0, 0} & Y_{0, 0} & \\theta_{0, 0}\\\\X_{1, 0} & Y_{1, 0} & \\theta_{1, 0}\\end{matrix}\\right]$"
      ],
      "text/plain": [
       "Matrix([\n",
       "[X[0, 0], Y[0, 0], theta[0, 0]],\n",
       "[X[1, 0], Y[1, 0], theta[1, 0]]])"
      ]
     },
     "execution_count": 23,
     "metadata": {},
     "output_type": "execute_result"
    }
   ],
   "source": [
    "target_points = Matrix([poses[:,0].T,poses[:,1].T])\n",
    "target_points"
   ]
  },
  {
   "cell_type": "code",
   "execution_count": 27,
   "id": "1533ecc4",
   "metadata": {},
   "outputs": [
    {
     "data": {
      "text/latex": [
       "$\\displaystyle \\left[\\begin{matrix}\\frac{T \\left(- \\frac{X_{0, 0}}{2} - \\frac{X_{1, 0}}{2} + X_{2, 0}\\right)}{C \\left(\\left(\\frac{X_{0, 0}}{2} + \\frac{X_{1, 0}}{2} - X_{2, 0}\\right)^{2} + \\left(\\frac{Y_{0, 0}}{2} + \\frac{Y_{1, 0}}{2} - Y_{2, 0}\\right)^{2} + 1\\right)^{2}} & \\frac{T \\left(- \\frac{Y_{0, 0}}{2} - \\frac{Y_{1, 0}}{2} + Y_{2, 0}\\right)}{C \\left(\\left(\\frac{X_{0, 0}}{2} + \\frac{X_{1, 0}}{2} - X_{2, 0}\\right)^{2} + \\left(\\frac{Y_{0, 0}}{2} + \\frac{Y_{1, 0}}{2} - Y_{2, 0}\\right)^{2} + 1\\right)^{2}} & 0\\end{matrix}\\right]$"
      ],
      "text/plain": [
       "Matrix([[T*(-X[0, 0]/2 - X[1, 0]/2 + X[2, 0])/(C*((X[0, 0]/2 + X[1, 0]/2 - X[2, 0])**2 + (Y[0, 0]/2 + Y[1, 0]/2 - Y[2, 0])**2 + 1)**2), T*(-Y[0, 0]/2 - Y[1, 0]/2 + Y[2, 0])/(C*((X[0, 0]/2 + X[1, 0]/2 - X[2, 0])**2 + (Y[0, 0]/2 + Y[1, 0]/2 - Y[2, 0])**2 + 1)**2), 0]])"
      ]
     },
     "execution_count": 27,
     "metadata": {},
     "output_type": "execute_result"
    }
   ],
   "source": [
    "error_mat.jacobian(target_points[0,:])\n"
   ]
  },
  {
   "cell_type": "code",
   "execution_count": 28,
   "id": "50e9e6f3",
   "metadata": {},
   "outputs": [
    {
     "data": {
      "text/latex": [
       "$\\displaystyle \\left[\\begin{matrix}\\frac{T \\left(- \\frac{X_{0, 0}}{2} - \\frac{X_{1, 0}}{2} + X_{2, 0}\\right)}{C \\left(\\left(\\frac{X_{0, 0}}{2} + \\frac{X_{1, 0}}{2} - X_{2, 0}\\right)^{2} + \\left(\\frac{Y_{0, 0}}{2} + \\frac{Y_{1, 0}}{2} - Y_{2, 0}\\right)^{2} + 1\\right)^{2}} & \\frac{T \\left(- \\frac{Y_{0, 0}}{2} - \\frac{Y_{1, 0}}{2} + Y_{2, 0}\\right)}{C \\left(\\left(\\frac{X_{0, 0}}{2} + \\frac{X_{1, 0}}{2} - X_{2, 0}\\right)^{2} + \\left(\\frac{Y_{0, 0}}{2} + \\frac{Y_{1, 0}}{2} - Y_{2, 0}\\right)^{2} + 1\\right)^{2}} & 0\\end{matrix}\\right]$"
      ],
      "text/plain": [
       "Matrix([[T*(-X[0, 0]/2 - X[1, 0]/2 + X[2, 0])/(C*((X[0, 0]/2 + X[1, 0]/2 - X[2, 0])**2 + (Y[0, 0]/2 + Y[1, 0]/2 - Y[2, 0])**2 + 1)**2), T*(-Y[0, 0]/2 - Y[1, 0]/2 + Y[2, 0])/(C*((X[0, 0]/2 + X[1, 0]/2 - X[2, 0])**2 + (Y[0, 0]/2 + Y[1, 0]/2 - Y[2, 0])**2 + 1)**2), 0]])"
      ]
     },
     "execution_count": 28,
     "metadata": {},
     "output_type": "execute_result"
    }
   ],
   "source": [
    "error_mat.jacobian(target_points[1,:])"
   ]
  },
  {
   "cell_type": "code",
   "execution_count": 31,
   "id": "6411066b",
   "metadata": {},
   "outputs": [
    {
     "data": {
      "text/latex": [
       "$\\displaystyle \\left[\\begin{matrix}\\frac{1}{C \\left(\\left(\\frac{X_{0, 0}}{2} + \\frac{X_{1, 0}}{2} - X_{2, 0}\\right)^{2} + \\left(\\frac{Y_{0, 0}}{2} + \\frac{Y_{1, 0}}{2} - Y_{2, 0}\\right)^{2} + 1\\right)}\\end{matrix}\\right]$"
      ],
      "text/plain": [
       "Matrix([[1/(C*((X[0, 0]/2 + X[1, 0]/2 - X[2, 0])**2 + (Y[0, 0]/2 + Y[1, 0]/2 - Y[2, 0])**2 + 1))]])"
      ]
     },
     "execution_count": 31,
     "metadata": {},
     "output_type": "execute_result"
    }
   ],
   "source": [
    "error_mat.jacobian(Matrix([T]))"
   ]
  },
  {
   "cell_type": "code",
   "execution_count": null,
   "id": "57894f3b",
   "metadata": {},
   "outputs": [],
   "source": []
  }
 ],
 "metadata": {
  "kernelspec": {
   "display_name": "vsc",
   "language": "python",
   "name": "vsc"
  },
  "language_info": {
   "codemirror_mode": {
    "name": "ipython",
    "version": 3
   },
   "file_extension": ".py",
   "mimetype": "text/x-python",
   "name": "python",
   "nbconvert_exporter": "python",
   "pygments_lexer": "ipython3",
   "version": "3.8.10"
  }
 },
 "nbformat": 4,
 "nbformat_minor": 5
}
