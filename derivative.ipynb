{
 "cells": [
  {
   "cell_type": "code",
   "execution_count": 1,
   "metadata": {},
   "outputs": [
    {
     "name": "stdout",
     "output_type": "stream",
     "text": [
      "/home/czg/python_learning\n",
      "\n",
      "/opt/ros/rolling/lib/python3.8/site-packages\n",
      "/usr/lib/python38.zip\n",
      "/usr/lib/python3.8\n",
      "/usr/lib/python3.8/lib-dynload\n",
      "/home/czg/.virtualenvs/vsc/lib/python3.8/site-packages\n"
     ]
    }
   ],
   "source": [
    "import sys \n",
    "for p in sys.path:\n",
    "    print(p)"
   ]
  },
  {
   "cell_type": "code",
   "execution_count": 2,
   "metadata": {},
   "outputs": [
    {
     "data": {
      "text/latex": [
       "$\\displaystyle 592$"
      ],
      "text/plain": [
       "592"
      ]
     },
     "execution_count": 2,
     "metadata": {},
     "output_type": "execute_result"
    }
   ],
   "source": [
    "from sympy import Symbol, Derivative\n",
    "\n",
    "x= Symbol('x')\n",
    "\n",
    "function= x**4 + 7*x**3 + 8\n",
    "\n",
    "deriv= Derivative(function, x)\n",
    "deriv.doit().subs({x:4})"
   ]
  },
  {
   "cell_type": "code",
   "execution_count": null,
   "metadata": {},
   "outputs": [],
   "source": [
    "print(\"1\")"
   ]
  },
  {
   "cell_type": "code",
   "execution_count": null,
   "metadata": {},
   "outputs": [],
   "source": [
    "import sympy"
   ]
  },
  {
   "cell_type": "code",
   "execution_count": null,
   "metadata": {},
   "outputs": [],
   "source": [
    "import site; print(site.getsitepackages())"
   ]
  },
  {
   "cell_type": "code",
   "execution_count": null,
   "metadata": {},
   "outputs": [
    {
     "name": "stdout",
     "output_type": "stream",
     "text": [
      "log(x)/log(2) + 1/log(2)\n",
      "[exp(-1)]\n",
      "[0, 1]\n",
      "[0 1 exp(-1)]\n",
      "-0.530737845423043\n",
      "874.627544390489\n",
      "1\n",
      "1.0*log(x)\n",
      "1.0*log(x0)\n",
      "1\n",
      "0\n",
      "1.0*log(x0) + 1.0*(x - x0)/x0\n",
      "2\n",
      "0\n",
      "1.0*log(x0) + 1.0*(x - x0)/x0 - 0.5*(x - x0)**2/x0**2\n",
      "6\n",
      "0\n",
      "1.0*log(x0) + 1.0*(x - x0)/x0 - 0.5*(x - x0)**2/x0**2 + 0.333333333333333*(x - x0)**3/x0**3\n",
      "24\n",
      "0\n",
      "1.0*log(x0) + 1.0*(x - x0)/x0 - 0.5*(x - x0)**2/x0**2 + 0.333333333333333*(x - x0)**3/x0**3 - 0.25*(x - x0)**4/x0**4\n"
     ]
    },
    {
     "data": {
      "text/latex": [
       "$\\displaystyle 1.0 \\log{\\left(x_{0} \\right)} + \\frac{1.0 \\left(x - x_{0}\\right)}{x_{0}} - \\frac{0.5 \\left(x - x_{0}\\right)^{2}}{x_{0}^{2}} + \\frac{0.333333333333333 \\left(x - x_{0}\\right)^{3}}{x_{0}^{3}} - \\frac{0.25 \\left(x - x_{0}\\right)^{4}}{x_{0}^{4}}$"
      ],
      "text/plain": [
       "1.0*log(x0) + 1.0*(x - x0)/x0 - 0.5*(x - x0)**2/x0**2 + 0.333333333333333*(x - x0)**3/x0**3 - 0.25*(x - x0)**4/x0**4"
      ]
     },
     "execution_count": 12,
     "metadata": {},
     "output_type": "execute_result"
    }
   ],
   "source": [
    "#This prints the derivative of a function\n",
    "import sympy as sym\n",
    "import math\n",
    "import numpy as np\n",
    "# x  = sym.Symbol('x ')\n",
    "x ,y ,x0= sym.symbols('x y x0')\n",
    "# function = x ** 4 + 7 * x ** 3 + 8\n",
    "#jupyter notebook stop function = x * math.log(x,2)\n",
    "function = x * sym.log(x,2)\n",
    "derivitive = sym.diff(function)\n",
    "print(derivitive)\n",
    "\n",
    "sol = sym.solve(derivitive)\n",
    "print(sol)\n",
    "\n",
    "sol2 = sym.solve(function)\n",
    "print(sol2)\n",
    "# print(function(sol))\n",
    "f = sym.lambdify(x,function,\"numpy\")\n",
    "a = np.array(sol2);\n",
    "a = np.append(a,sol)\n",
    "print(a)\n",
    "# f(a)\n",
    "print(function.subs({x: sym.exp(-1)}).evalf())\n",
    "\n",
    "x, y = sym.symbols('x y')\n",
    "expr = 3*x**2 + sym.log(x**2 + y**2 + 1)\n",
    "expr\n",
    "\n",
    "print(expr.subs({x: 17, y: 42}).evalf())\n",
    "# function.subs(x,sym.exp(-1))\n",
    "\n",
    "def taylor(function, x0, n):\n",
    "    \"\"\"\n",
    "    Parameter \"function\" is our function which we want to approximate\n",
    "    \"x0\" is the point where to approximate\n",
    "    \"n\" is the order of approximation\n",
    "    \"\"\"\n",
    "    taylor_func =0\n",
    "    for i in range(n):\n",
    "         taylor_func += (x-x0)**i*sym.diff(function,x,i).subs(x,x0)/sym.factorial(i)\n",
    "         print(sym.factorial(i))\n",
    "         print(sym.diff(function,x0,i))\n",
    "         print(taylor_func)\n",
    "    return taylor_func\n",
    "    # return function.series(x,x0,n).removeO()\n",
    "taylor_log = taylor(sym.log(x,math.e),x0,5)\n",
    "taylor_log"
   ]
  },
  {
   "cell_type": "code",
   "execution_count": null,
   "metadata": {},
   "outputs": [
    {
     "data": {
      "text/latex": [
       "$\\displaystyle x^{5} + 5 x^{4} y + 10 x^{3} y^{2} + 10 x^{2} y^{3} + 5 x y^{4} + y^{5}$"
      ],
      "text/plain": [
       "x**5 + 5*x**4*y + 10*x**3*y**2 + 10*x**2*y**3 + 5*x*y**4 + y**5"
      ]
     },
     "execution_count": 13,
     "metadata": {},
     "output_type": "execute_result"
    }
   ],
   "source": [
    "taylor_log.subs(x0,1)\n",
    "expr = (x + y)**5\n",
    "sym.expand(expr)"
   ]
  },
  {
   "cell_type": "code",
   "execution_count": null,
   "metadata": {},
   "outputs": [],
   "source": []
  },
  {
   "cell_type": "code",
   "execution_count": null,
   "metadata": {},
   "outputs": [],
   "source": []
  },
  {
   "cell_type": "code",
   "execution_count": null,
   "metadata": {},
   "outputs": [],
   "source": []
  }
 ],
 "metadata": {
  "interpreter": {
   "hash": "32545b6e71f78168ef9a3abddd022ebdacdc2ccd33c512c9f35a993301b34b85"
  },
  "kernelspec": {
   "display_name": "vsc",
   "language": "python",
   "name": "vsc"
  },
  "language_info": {
   "codemirror_mode": {
    "name": "ipython",
    "version": 3
   },
   "file_extension": ".py",
   "mimetype": "text/x-python",
   "name": "python",
   "nbconvert_exporter": "python",
   "pygments_lexer": "ipython3",
   "version": "3.8.10"
  }
 },
 "nbformat": 4,
 "nbformat_minor": 2
}
